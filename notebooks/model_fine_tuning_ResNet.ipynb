{
 "cells": [
  {
   "cell_type": "code",
   "execution_count": 1,
   "metadata": {},
   "outputs": [
    {
     "name": "stdout",
     "output_type": "stream",
     "text": [
      "Defaulting to user installation because normal site-packages is not writeable\n",
      "Requirement already satisfied: gdown in c:\\users\\rperera23\\appdata\\roaming\\python\\python39\\site-packages (4.7.1)\n",
      "Requirement already satisfied: six in c:\\program files\\arcgis\\pro\\bin\\python\\envs\\arcgispro-py3\\lib\\site-packages (from gdown) (1.16.0)\n",
      "Requirement already satisfied: beautifulsoup4 in c:\\program files\\arcgis\\pro\\bin\\python\\envs\\arcgispro-py3\\lib\\site-packages (from gdown) (4.11.1)\n",
      "Requirement already satisfied: tqdm in c:\\program files\\arcgis\\pro\\bin\\python\\envs\\arcgispro-py3\\lib\\site-packages (from gdown) (4.64.1)\n",
      "Requirement already satisfied: filelock in c:\\program files\\arcgis\\pro\\bin\\python\\envs\\arcgispro-py3\\lib\\site-packages (from gdown) (3.9.0)\n",
      "Requirement already satisfied: requests[socks] in c:\\program files\\arcgis\\pro\\bin\\python\\envs\\arcgispro-py3\\lib\\site-packages (from gdown) (2.28.1)\n",
      "Requirement already satisfied: soupsieve>1.2 in c:\\program files\\arcgis\\pro\\bin\\python\\envs\\arcgispro-py3\\lib\\site-packages (from beautifulsoup4->gdown) (2.3.2.post1)\n",
      "Requirement already satisfied: idna<4,>=2.5 in c:\\program files\\arcgis\\pro\\bin\\python\\envs\\arcgispro-py3\\lib\\site-packages (from requests[socks]->gdown) (3.4)\n",
      "Requirement already satisfied: charset-normalizer<3,>=2 in c:\\program files\\arcgis\\pro\\bin\\python\\envs\\arcgispro-py3\\lib\\site-packages (from requests[socks]->gdown) (2.0.4)\n",
      "Requirement already satisfied: certifi>=2017.4.17 in c:\\program files\\arcgis\\pro\\bin\\python\\envs\\arcgispro-py3\\lib\\site-packages (from requests[socks]->gdown) (2022.9.24)\n",
      "Requirement already satisfied: urllib3<1.27,>=1.21.1 in c:\\program files\\arcgis\\pro\\bin\\python\\envs\\arcgispro-py3\\lib\\site-packages (from requests[socks]->gdown) (1.26.12)\n",
      "Requirement already satisfied: PySocks!=1.5.7,>=1.5.6 in c:\\program files\\arcgis\\pro\\bin\\python\\envs\\arcgispro-py3\\lib\\site-packages (from requests[socks]->gdown) (1.7.1)\n",
      "Requirement already satisfied: colorama in c:\\program files\\arcgis\\pro\\bin\\python\\envs\\arcgispro-py3\\lib\\site-packages (from tqdm->gdown) (0.4.5)\n"
     ]
    }
   ],
   "source": [
    "!pip install gdown"
   ]
  },
  {
   "cell_type": "code",
   "execution_count": 2,
   "metadata": {},
   "outputs": [
    {
     "data": {
      "text/plain": [
       "<contextlib.ExitStack at 0x1e5176dc5b0>"
      ]
     },
     "execution_count": 2,
     "metadata": {},
     "output_type": "execute_result"
    }
   ],
   "source": [
    "import sys\n",
    "sys.path.append('..')\n",
    "import torch\n",
    "import torch.nn as nn\n",
    "import torch.backends.cudnn as cudnn\n",
    "import matplotlib.pyplot as plt\n",
    "import os\n",
    "import torchvision\n",
    "from torchvision import datasets, models, transforms\n",
    "from torch.optim.lr_scheduler import StepLR\n",
    "\n",
    "\n",
    "from src.models import ModelResnet152dTimm\n",
    "from src.dataloader import EuroSatDownloader\n",
    "from src.training import train_fine_tuning, eval_method, eval_func\n",
    "from src.dataloader import MiniImageNetDataSet, createEuroSatDataLoaders, EuroSatDownloader\n",
    "from src.modelvis import visualize_models\n",
    "\n",
    "plt.ion()\n",
    "\n",
    "'''\n",
    "The line cudnn.benchmark = True is typically used in deep learning projects that utilize the CUDA Deep Neural Network (cuDNN) library.\n",
    "When cudnn.benchmark is set to True, it enables cuDNN to automatically find the best algorithm configuration for the specific \n",
    "input sizes and hardware being used. This can result in improved performance during training and inference.By enabling benchmarking, \n",
    "cuDNN will run a short benchmarking phase during the first iteration of the model to determine the optimal algorithm configuration. \n",
    "This configuration is then cached and used for subsequent iterations, leading to faster execution times.\n",
    "It's important to note that enabling benchmarking may introduce some overhead during the initial benchmarking phase, so it is typically \n",
    "recommended to use it when the input sizes are consistent throughout the training process.\n",
    "Overall, setting cudnn.benchmark to True can help optimize the performance of deep learning models that use cuDNN.\n",
    "'''\n",
    "torch.backends.cudnn.benchmark = True\n",
    "\n",
    "'''\n",
    "The line plt.ion() is a function call that activates interactive mode in matplotlib.\n",
    "When interactive mode is enabled, any plot that is created will be displayed immediately \n",
    "and can be updated dynamically. This means that you can modify the plot after it is displayed, \n",
    "such as changing the data or adding annotations, and the changes will be reflected in real-time.\n",
    "'''\n",
    "plt.ion()"
   ]
  },
  {
   "cell_type": "code",
   "execution_count": 3,
   "metadata": {},
   "outputs": [
    {
     "name": "stdout",
     "output_type": "stream",
     "text": [
      "0.9.2\n",
      "1.8.2\n"
     ]
    }
   ],
   "source": [
    "print(torchvision.__version__)\n",
    "print(torch.__version__)"
   ]
  },
  {
   "cell_type": "code",
   "execution_count": 4,
   "metadata": {},
   "outputs": [
    {
     "name": "stdout",
     "output_type": "stream",
     "text": [
      "cuda:0\n"
     ]
    }
   ],
   "source": [
    "device = torch.device(\"cuda:0\" if torch.cuda.is_available() else \"cpu\")\n",
    "print(device)"
   ]
  },
  {
   "cell_type": "markdown",
   "metadata": {},
   "source": [
    "### Download EuroSat Database"
   ]
  },
  {
   "cell_type": "code",
   "execution_count": 5,
   "metadata": {},
   "outputs": [
    {
     "name": "stderr",
     "output_type": "stream",
     "text": [
      "2024-01-07 05:16:59,776 - INFO - EuroSat database already exists.\n"
     ]
    }
   ],
   "source": [
    "extractDir = '..\\\\data'\n",
    "url = \"https://zenodo.org/records/7711810/files/EuroSAT_RGB.zip?download=1\"\n",
    "downloader = EuroSatDownloader(url, extractDir)\n",
    "dataDir = downloader.download()"
   ]
  },
  {
   "cell_type": "markdown",
   "metadata": {},
   "source": [
    "# Hyperparameters"
   ]
  },
  {
   "cell_type": "code",
   "execution_count": 6,
   "metadata": {},
   "outputs": [],
   "source": [
    "LEARNING_RATE = 0.001\n",
    "WEIGHT_DECAY = 0.001\n",
    "NUM_EPOCHS = 15\n",
    "BATCH_SIZE = 25\n",
    "MOMENTUM = 0.09\n",
    "STEP_SIZE = 5\n",
    "num_of_classes = 64\n",
    "EPISODES = 5\n",
    "GAMMA = 0.5"
   ]
  },
  {
   "cell_type": "code",
   "execution_count": 7,
   "metadata": {},
   "outputs": [],
   "source": [
    "data_transforms = {\n",
    "    'train': transforms.Compose([\n",
    "        transforms.Resize(224),\n",
    "        transforms.ColorJitter(brightness=0.4, contrast=0.4, saturation=0.4),\n",
    "        transforms.RandomHorizontalFlip(),\n",
    "        transforms.GaussianBlur(3, sigma=(0.1, 2.0)),\n",
    "        transforms.ToTensor(),\n",
    "        transforms.Normalize((0.485, 0.456, 0.406), (0.229, 0.224, 0.225)),\n",
    "    ]),\n",
    "    'test': transforms.Compose([\n",
    "        transforms.Resize(224),\n",
    "        transforms.ToTensor(),\n",
    "        transforms.Normalize((0.485, 0.456, 0.406), (0.229, 0.224, 0.225)),\n",
    "    ])\n",
    "}\n",
    "\n",
    "\n",
    "dataDir = '..\\\\data\\\\EuroSAT_RGB'\n",
    "modelPath = '..\\\\data\\\\models\\\\best_model_ModelResnet152dTimm_FixedTransforms.pth'"
   ]
  },
  {
   "cell_type": "code",
   "execution_count": 8,
   "metadata": {},
   "outputs": [
    {
     "name": "stdout",
     "output_type": "stream",
     "text": [
      "Please wait patiently, it may take some seconds...\n",
      "\n",
      "Training Episode: 1...\n"
     ]
    },
    {
     "name": "stderr",
     "output_type": "stream",
     "text": [
      "2024-01-07 05:17:03,389 - INFO - Loading pretrained weights from url (https://github.com/rwightman/pytorch-image-models/releases/download/v0.1-weights/resnet152d_ra2-5cac0439.pth)\n"
     ]
    },
    {
     "name": "stdout",
     "output_type": "stream",
     "text": [
      "{'train': 25, 'test': 75}\n",
      "epoch: 0, accuracy: 0.160000, avg. loss: 1.633268, test accuracy: 0.333333\n",
      "epoch: 1, accuracy: 0.280000, avg. loss: 1.585307, test accuracy: 0.320000\n",
      "epoch: 2, accuracy: 0.160000, avg. loss: 1.604901, test accuracy: 0.346667\n",
      "epoch: 3, accuracy: 0.120000, avg. loss: 1.594753, test accuracy: 0.360000\n",
      "epoch: 4, accuracy: 0.160000, avg. loss: 1.598347, test accuracy: 0.346667\n",
      "epoch: 5, accuracy: 0.280000, avg. loss: 1.556106, test accuracy: 0.293333\n",
      "epoch: 6, accuracy: 0.520000, avg. loss: 1.538106, test accuracy: 0.293333\n",
      "epoch: 7, accuracy: 0.240000, avg. loss: 1.539082, test accuracy: 0.346667\n",
      "epoch: 8, accuracy: 0.320000, avg. loss: 1.513519, test accuracy: 0.333333\n",
      "epoch: 9, accuracy: 0.400000, avg. loss: 1.482218, test accuracy: 0.333333\n",
      "epoch: 10, accuracy: 0.520000, avg. loss: 1.478004, test accuracy: 0.320000\n",
      "epoch: 11, accuracy: 0.320000, avg. loss: 1.508707, test accuracy: 0.346667\n",
      "epoch: 12, accuracy: 0.280000, avg. loss: 1.512326, test accuracy: 0.346667\n",
      "epoch: 13, accuracy: 0.400000, avg. loss: 1.468786, test accuracy: 0.333333\n",
      "epoch: 14, accuracy: 0.480000, avg. loss: 1.481848, test accuracy: 0.346667\n",
      "{'AnnualCrop', 'SeaLake', 'River', 'Highway', 'HerbaceousVegetation'}\n",
      "Episode 1: Test Accuracy: 0.3467\n",
      "\n",
      "Training Episode: 2...\n"
     ]
    },
    {
     "name": "stderr",
     "output_type": "stream",
     "text": [
      "2024-01-07 05:20:13,331 - INFO - Loading pretrained weights from url (https://github.com/rwightman/pytorch-image-models/releases/download/v0.1-weights/resnet152d_ra2-5cac0439.pth)\n"
     ]
    },
    {
     "name": "stdout",
     "output_type": "stream",
     "text": [
      "{'train': 25, 'test': 75}\n",
      "epoch: 0, accuracy: 0.160000, avg. loss: 1.642227, test accuracy: 0.186667\n",
      "epoch: 1, accuracy: 0.080000, avg. loss: 1.674231, test accuracy: 0.160000\n",
      "epoch: 2, accuracy: 0.240000, avg. loss: 1.620021, test accuracy: 0.160000\n",
      "epoch: 3, accuracy: 0.120000, avg. loss: 1.654762, test accuracy: 0.173333\n",
      "epoch: 4, accuracy: 0.160000, avg. loss: 1.639924, test accuracy: 0.186667\n",
      "epoch: 5, accuracy: 0.160000, avg. loss: 1.602441, test accuracy: 0.173333\n",
      "epoch: 6, accuracy: 0.160000, avg. loss: 1.595123, test accuracy: 0.213333\n",
      "epoch: 7, accuracy: 0.080000, avg. loss: 1.628648, test accuracy: 0.240000\n",
      "epoch: 8, accuracy: 0.080000, avg. loss: 1.599404, test accuracy: 0.226667\n",
      "epoch: 9, accuracy: 0.360000, avg. loss: 1.540437, test accuracy: 0.240000\n",
      "epoch: 10, accuracy: 0.240000, avg. loss: 1.553781, test accuracy: 0.200000\n",
      "epoch: 11, accuracy: 0.240000, avg. loss: 1.546798, test accuracy: 0.186667\n",
      "epoch: 12, accuracy: 0.200000, avg. loss: 1.561395, test accuracy: 0.186667\n",
      "epoch: 13, accuracy: 0.200000, avg. loss: 1.553504, test accuracy: 0.213333\n",
      "epoch: 14, accuracy: 0.200000, avg. loss: 1.541924, test accuracy: 0.213333\n",
      "{'AnnualCrop', 'PermanentCrop', 'Pasture', 'Residential', 'River'}\n",
      "Episode 2: Test Accuracy: 0.2133\n",
      "\n",
      "Training Episode: 3...\n"
     ]
    },
    {
     "name": "stderr",
     "output_type": "stream",
     "text": [
      "2024-01-07 05:23:36,000 - INFO - Loading pretrained weights from url (https://github.com/rwightman/pytorch-image-models/releases/download/v0.1-weights/resnet152d_ra2-5cac0439.pth)\n"
     ]
    },
    {
     "name": "stdout",
     "output_type": "stream",
     "text": [
      "{'train': 25, 'test': 75}\n",
      "epoch: 0, accuracy: 0.280000, avg. loss: 1.565910, test accuracy: 0.106667\n",
      "epoch: 1, accuracy: 0.280000, avg. loss: 1.502577, test accuracy: 0.120000\n",
      "epoch: 2, accuracy: 0.320000, avg. loss: 1.511392, test accuracy: 0.173333\n",
      "epoch: 3, accuracy: 0.320000, avg. loss: 1.503307, test accuracy: 0.186667\n",
      "epoch: 4, accuracy: 0.280000, avg. loss: 1.475580, test accuracy: 0.200000\n",
      "epoch: 5, accuracy: 0.360000, avg. loss: 1.506248, test accuracy: 0.200000\n",
      "epoch: 6, accuracy: 0.400000, avg. loss: 1.512616, test accuracy: 0.240000\n",
      "epoch: 7, accuracy: 0.280000, avg. loss: 1.485583, test accuracy: 0.226667\n",
      "epoch: 8, accuracy: 0.400000, avg. loss: 1.451588, test accuracy: 0.226667\n",
      "epoch: 9, accuracy: 0.360000, avg. loss: 1.451431, test accuracy: 0.226667\n",
      "epoch: 10, accuracy: 0.320000, avg. loss: 1.454059, test accuracy: 0.240000\n",
      "epoch: 11, accuracy: 0.280000, avg. loss: 1.491456, test accuracy: 0.226667\n",
      "epoch: 12, accuracy: 0.440000, avg. loss: 1.470896, test accuracy: 0.240000\n",
      "epoch: 13, accuracy: 0.400000, avg. loss: 1.432302, test accuracy: 0.240000\n",
      "epoch: 14, accuracy: 0.520000, avg. loss: 1.459202, test accuracy: 0.240000\n",
      "{'Forest', 'PermanentCrop', 'Pasture', 'Residential', 'River'}\n",
      "Episode 3: Test Accuracy: 0.2400\n",
      "\n",
      "Training Episode: 4...\n"
     ]
    },
    {
     "name": "stderr",
     "output_type": "stream",
     "text": [
      "2024-01-07 05:26:51,016 - INFO - Loading pretrained weights from url (https://github.com/rwightman/pytorch-image-models/releases/download/v0.1-weights/resnet152d_ra2-5cac0439.pth)\n"
     ]
    },
    {
     "name": "stdout",
     "output_type": "stream",
     "text": [
      "{'train': 25, 'test': 75}\n",
      "epoch: 0, accuracy: 0.120000, avg. loss: 1.753704, test accuracy: 0.093333\n",
      "epoch: 1, accuracy: 0.120000, avg. loss: 1.728337, test accuracy: 0.133333\n",
      "epoch: 2, accuracy: 0.040000, avg. loss: 1.722818, test accuracy: 0.160000\n",
      "epoch: 3, accuracy: 0.160000, avg. loss: 1.689935, test accuracy: 0.173333\n",
      "epoch: 4, accuracy: 0.120000, avg. loss: 1.645311, test accuracy: 0.160000\n",
      "epoch: 5, accuracy: 0.120000, avg. loss: 1.719704, test accuracy: 0.160000\n",
      "epoch: 6, accuracy: 0.040000, avg. loss: 1.694996, test accuracy: 0.146667\n",
      "epoch: 7, accuracy: 0.080000, avg. loss: 1.699202, test accuracy: 0.120000\n",
      "epoch: 8, accuracy: 0.160000, avg. loss: 1.707182, test accuracy: 0.120000\n",
      "epoch: 9, accuracy: 0.160000, avg. loss: 1.648751, test accuracy: 0.106667\n",
      "epoch: 10, accuracy: 0.160000, avg. loss: 1.664260, test accuracy: 0.093333\n",
      "epoch: 11, accuracy: 0.120000, avg. loss: 1.632955, test accuracy: 0.120000\n",
      "epoch: 12, accuracy: 0.080000, avg. loss: 1.670627, test accuracy: 0.106667\n",
      "epoch: 13, accuracy: 0.080000, avg. loss: 1.678193, test accuracy: 0.120000\n",
      "epoch: 14, accuracy: 0.160000, avg. loss: 1.660826, test accuracy: 0.093333\n",
      "{'Forest', 'AnnualCrop', 'PermanentCrop', 'Pasture', 'HerbaceousVegetation'}\n",
      "Episode 4: Test Accuracy: 0.0933\n",
      "\n",
      "Training Episode: 5...\n"
     ]
    },
    {
     "name": "stderr",
     "output_type": "stream",
     "text": [
      "2024-01-07 05:29:58,593 - INFO - Loading pretrained weights from url (https://github.com/rwightman/pytorch-image-models/releases/download/v0.1-weights/resnet152d_ra2-5cac0439.pth)\n"
     ]
    },
    {
     "name": "stdout",
     "output_type": "stream",
     "text": [
      "{'train': 25, 'test': 75}\n",
      "epoch: 0, accuracy: 0.280000, avg. loss: 1.647789, test accuracy: 0.106667\n",
      "epoch: 1, accuracy: 0.280000, avg. loss: 1.616148, test accuracy: 0.093333\n",
      "epoch: 2, accuracy: 0.320000, avg. loss: 1.628009, test accuracy: 0.093333\n",
      "epoch: 3, accuracy: 0.200000, avg. loss: 1.624410, test accuracy: 0.120000\n",
      "epoch: 4, accuracy: 0.280000, avg. loss: 1.580313, test accuracy: 0.186667\n",
      "epoch: 5, accuracy: 0.280000, avg. loss: 1.594694, test accuracy: 0.186667\n",
      "epoch: 6, accuracy: 0.280000, avg. loss: 1.559619, test accuracy: 0.173333\n",
      "epoch: 7, accuracy: 0.360000, avg. loss: 1.556850, test accuracy: 0.173333\n",
      "epoch: 8, accuracy: 0.400000, avg. loss: 1.528625, test accuracy: 0.200000\n",
      "epoch: 9, accuracy: 0.440000, avg. loss: 1.524285, test accuracy: 0.213333\n",
      "epoch: 10, accuracy: 0.480000, avg. loss: 1.499158, test accuracy: 0.226667\n",
      "epoch: 11, accuracy: 0.240000, avg. loss: 1.565631, test accuracy: 0.226667\n",
      "epoch: 12, accuracy: 0.320000, avg. loss: 1.521159, test accuracy: 0.253333\n",
      "epoch: 13, accuracy: 0.400000, avg. loss: 1.550892, test accuracy: 0.266667\n",
      "epoch: 14, accuracy: 0.280000, avg. loss: 1.543619, test accuracy: 0.240000\n",
      "{'Forest', 'AnnualCrop', 'SeaLake', 'Highway', 'HerbaceousVegetation'}\n",
      "Episode 5: Test Accuracy: 0.2400\n",
      "\n",
      "Average Test Accuracy: 0.22666666666666666\n"
     ]
    }
   ],
   "source": [
    "print('Please wait patiently, it may take some seconds...')\n",
    "total_test_acc = 0.0\n",
    "\n",
    "good_classes = [set() for _ in range(EPISODES)]\n",
    "bad_classes = set()\n",
    "\n",
    "for episode in range(EPISODES):\n",
    "    print(f\"\\nTraining Episode: {episode + 1}...\")\n",
    "    \n",
    "    loaded_model = torch.load(modelPath, map_location=device)\n",
    "    model = ModelResnet152dTimm(64)\n",
    "    model.load_state_dict(loaded_model)\n",
    "    model.model.fc = nn.Linear(model.model.fc.in_features, 5).to(device)\n",
    "\n",
    "    for param in model.parameters():\n",
    "        param.requires_grad = True\n",
    "    \n",
    "    criterion = torch.nn.CrossEntropyLoss()\n",
    "    optimizer = torch.optim.SGD(params = model.parameters(), lr = LEARNING_RATE, momentum = MOMENTUM, weight_decay = WEIGHT_DECAY)\n",
    "    scheduler = torch.optim.lr_scheduler.StepLR(optimizer, step_size = STEP_SIZE, gamma = GAMMA)\n",
    "    dataloaders, class_names, dataset_sizes = createEuroSatDataLoaders(data_transforms, dataDir, split=0.25, batch_size = BATCH_SIZE)\n",
    "    print(dataset_sizes)\n",
    "    \n",
    "    model, _, _ = train_fine_tuning(model, dataloaders, criterion, optimizer, scheduler, num_epochs = NUM_EPOCHS, learning_rate = LEARNING_RATE)\n",
    "    test_loader = dataloaders['test']\n",
    "    acc_test, test_loss = eval_method(net=model, data_loader=test_loader)\n",
    "    total_test_acc += acc_test\n",
    "    if acc_test < 0.6:\n",
    "        bad_classes.update(class_names)\n",
    "    elif acc_test > 0.7:\n",
    "        good_classes[episode].update(class_names)\n",
    "    print(class_names)\n",
    "    print(f\"Episode {episode + 1}: Test Accuracy: {acc_test:.4f}\")\n",
    "\n",
    "average_test_acc = total_test_acc / EPISODES\n",
    "print(\"\\nAverage Test Accuracy:\", average_test_acc)"
   ]
  },
  {
   "cell_type": "code",
   "execution_count": 9,
   "metadata": {},
   "outputs": [
    {
     "name": "stdout",
     "output_type": "stream",
     "text": [
      "{'Forest', 'AnnualCrop', 'PermanentCrop', 'Pasture', 'Residential', 'SeaLake', 'River', 'Highway', 'HerbaceousVegetation'}\n",
      "{'Forest', 'AnnualCrop', 'PermanentCrop', 'Pasture', 'Residential', 'SeaLake', 'River', 'Highway', 'HerbaceousVegetation'}\n",
      "{'Forest', 'AnnualCrop', 'PermanentCrop', 'Pasture', 'Residential', 'SeaLake', 'River', 'Highway', 'HerbaceousVegetation'}\n",
      "{'Forest', 'AnnualCrop', 'PermanentCrop', 'Pasture', 'Residential', 'SeaLake', 'River', 'Highway', 'HerbaceousVegetation'}\n",
      "{'Forest', 'AnnualCrop', 'PermanentCrop', 'Pasture', 'Residential', 'SeaLake', 'River', 'Highway', 'HerbaceousVegetation'}\n",
      "{'Forest', 'AnnualCrop', 'PermanentCrop', 'Pasture', 'Residential', 'SeaLake', 'River', 'Highway', 'HerbaceousVegetation'}\n"
     ]
    }
   ],
   "source": [
    "for good_set in good_classes:\n",
    "    print(bad_classes - good_set)\n",
    "print(bad_classes)"
   ]
  }
 ],
 "metadata": {
  "kernelspec": {
   "display_name": "Python 3 (ipykernel)",
   "language": "python",
   "name": "python3"
  },
  "language_info": {
   "codemirror_mode": {
    "name": "ipython",
    "version": 3
   },
   "file_extension": ".py",
   "mimetype": "text/x-python",
   "name": "python",
   "nbconvert_exporter": "python",
   "pygments_lexer": "ipython3",
   "version": "3.9.16"
  }
 },
 "nbformat": 4,
 "nbformat_minor": 4
}
