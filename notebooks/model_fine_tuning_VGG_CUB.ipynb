{
 "cells": [
  {
   "cell_type": "markdown",
   "metadata": {},
   "source": [
    "# VGG model finetuning with CUB Dataset\n",
    "\n",
    "## 5-way 25-shot"
   ]
  },
  {
   "cell_type": "code",
   "execution_count": 1,
   "metadata": {},
   "outputs": [
    {
     "name": "stdout",
     "output_type": "stream",
     "text": [
      "Defaulting to user installation because normal site-packages is not writeable\n",
      "Requirement already satisfied: gdown in c:\\users\\rperera23\\appdata\\roaming\\python\\python39\\site-packages (4.7.1)\n",
      "Requirement already satisfied: requests[socks] in c:\\program files\\arcgis\\pro\\bin\\python\\envs\\arcgispro-py3\\lib\\site-packages (from gdown) (2.28.1)\n",
      "Requirement already satisfied: beautifulsoup4 in c:\\program files\\arcgis\\pro\\bin\\python\\envs\\arcgispro-py3\\lib\\site-packages (from gdown) (4.11.1)\n",
      "Requirement already satisfied: filelock in c:\\program files\\arcgis\\pro\\bin\\python\\envs\\arcgispro-py3\\lib\\site-packages (from gdown) (3.9.0)\n",
      "Requirement already satisfied: six in c:\\program files\\arcgis\\pro\\bin\\python\\envs\\arcgispro-py3\\lib\\site-packages (from gdown) (1.16.0)\n",
      "Requirement already satisfied: tqdm in c:\\program files\\arcgis\\pro\\bin\\python\\envs\\arcgispro-py3\\lib\\site-packages (from gdown) (4.64.1)\n",
      "Requirement already satisfied: soupsieve>1.2 in c:\\program files\\arcgis\\pro\\bin\\python\\envs\\arcgispro-py3\\lib\\site-packages (from beautifulsoup4->gdown) (2.3.2.post1)\n",
      "Requirement already satisfied: certifi>=2017.4.17 in c:\\program files\\arcgis\\pro\\bin\\python\\envs\\arcgispro-py3\\lib\\site-packages (from requests[socks]->gdown) (2022.9.24)\n",
      "Requirement already satisfied: idna<4,>=2.5 in c:\\program files\\arcgis\\pro\\bin\\python\\envs\\arcgispro-py3\\lib\\site-packages (from requests[socks]->gdown) (3.4)\n",
      "Requirement already satisfied: charset-normalizer<3,>=2 in c:\\program files\\arcgis\\pro\\bin\\python\\envs\\arcgispro-py3\\lib\\site-packages (from requests[socks]->gdown) (2.0.4)\n",
      "Requirement already satisfied: urllib3<1.27,>=1.21.1 in c:\\program files\\arcgis\\pro\\bin\\python\\envs\\arcgispro-py3\\lib\\site-packages (from requests[socks]->gdown) (1.26.12)\n",
      "Requirement already satisfied: PySocks!=1.5.7,>=1.5.6 in c:\\program files\\arcgis\\pro\\bin\\python\\envs\\arcgispro-py3\\lib\\site-packages (from requests[socks]->gdown) (1.7.1)\n",
      "Requirement already satisfied: colorama in c:\\program files\\arcgis\\pro\\bin\\python\\envs\\arcgispro-py3\\lib\\site-packages (from tqdm->gdown) (0.4.5)\n"
     ]
    }
   ],
   "source": [
    "!pip install gdown"
   ]
  },
  {
   "cell_type": "code",
   "execution_count": 2,
   "metadata": {},
   "outputs": [
    {
     "data": {
      "text/plain": [
       "<contextlib.ExitStack at 0x19ef5c8ec70>"
      ]
     },
     "execution_count": 2,
     "metadata": {},
     "output_type": "execute_result"
    }
   ],
   "source": [
    "import sys\n",
    "sys.path.append('..')\n",
    "import torch\n",
    "import torch.nn as nn\n",
    "import torch.backends.cudnn as cudnn\n",
    "import matplotlib.pyplot as plt\n",
    "import os\n",
    "import torchvision\n",
    "from torchvision import datasets, models, transforms\n",
    "from torch.optim.lr_scheduler import StepLR\n",
    "\n",
    "\n",
    "from src.models import VGG19\n",
    "from src.dataloader import EuroSatDownloader\n",
    "from src.training import train_fine_tuning, eval_method, eval_func\n",
    "from src.dataloader import MiniImageNetDataSet, createEuroSatDataLoaders, EuroSatDownloader\n",
    "from src.modelvis import visualize_models\n",
    "\n",
    "plt.ion()\n",
    "\n",
    "'''\n",
    "The line cudnn.benchmark = True is typically used in deep learning projects that utilize the CUDA Deep Neural Network (cuDNN) library.\n",
    "When cudnn.benchmark is set to True, it enables cuDNN to automatically find the best algorithm configuration for the specific \n",
    "input sizes and hardware being used. This can result in improved performance during training and inference.By enabling benchmarking, \n",
    "cuDNN will run a short benchmarking phase during the first iteration of the model to determine the optimal algorithm configuration. \n",
    "This configuration is then cached and used for subsequent iterations, leading to faster execution times.\n",
    "It's important to note that enabling benchmarking may introduce some overhead during the initial benchmarking phase, so it is typically \n",
    "recommended to use it when the input sizes are consistent throughout the training process.\n",
    "Overall, setting cudnn.benchmark to True can help optimize the performance of deep learning models that use cuDNN.\n",
    "'''\n",
    "torch.backends.cudnn.benchmark = True\n",
    "\n",
    "'''\n",
    "The line plt.ion() is a function call that activates interactive mode in matplotlib.\n",
    "When interactive mode is enabled, any plot that is created will be displayed immediately \n",
    "and can be updated dynamically. This means that you can modify the plot after it is displayed, \n",
    "such as changing the data or adding annotations, and the changes will be reflected in real-time.\n",
    "'''\n",
    "plt.ion()"
   ]
  },
  {
   "cell_type": "code",
   "execution_count": 3,
   "metadata": {},
   "outputs": [
    {
     "name": "stdout",
     "output_type": "stream",
     "text": [
      "0.9.2\n",
      "1.8.2\n"
     ]
    }
   ],
   "source": [
    "print(torchvision.__version__)\n",
    "print(torch.__version__)"
   ]
  },
  {
   "cell_type": "code",
   "execution_count": 4,
   "metadata": {},
   "outputs": [
    {
     "name": "stdout",
     "output_type": "stream",
     "text": [
      "cuda:0\n"
     ]
    }
   ],
   "source": [
    "device = torch.device(\"cuda:0\" if torch.cuda.is_available() else \"cpu\")\n",
    "print(device)"
   ]
  },
  {
   "cell_type": "markdown",
   "metadata": {},
   "source": [
    "### Download CUB Dataset\n",
    "\n",
    "add data to the path\n",
    "\n",
    "dataDir = '..\\\\data\\\\CUB_200_2011\\\\CUB_200_2011\\\\images'"
   ]
  },
  {
   "cell_type": "markdown",
   "metadata": {},
   "source": [
    "# Hyperparameters"
   ]
  },
  {
   "cell_type": "code",
   "execution_count": 5,
   "metadata": {},
   "outputs": [],
   "source": [
    "LEARNING_RATE = 0.01\n",
    "WEIGHT_DECAY = 0.001\n",
    "NUM_EPOCHS = 20\n",
    "BATCH_SIZE = 25\n",
    "MOMENTUM = 0.09\n",
    "STEP_SIZE = 5\n",
    "num_of_classes = 64\n",
    "EPISODES = 5\n",
    "GAMMA = 0.5"
   ]
  },
  {
   "cell_type": "code",
   "execution_count": 6,
   "metadata": {},
   "outputs": [],
   "source": [
    "data_transforms = {\n",
    "    'train': transforms.Compose([\n",
    "        transforms.Resize((224, 224)),\n",
    "        transforms.ColorJitter(brightness=0.4, contrast=0.4, saturation=0.4),\n",
    "        transforms.RandomHorizontalFlip(),\n",
    "        transforms.GaussianBlur(3, sigma=(0.1, 2.0)),\n",
    "        transforms.ToTensor(),\n",
    "        transforms.Normalize((0.485, 0.456, 0.406), (0.229, 0.224, 0.225)),\n",
    "    ]),\n",
    "    'test': transforms.Compose([\n",
    "        transforms.Resize((224, 224)),\n",
    "        transforms.ToTensor(),\n",
    "        transforms.Normalize((0.485, 0.456, 0.406), (0.229, 0.224, 0.225)),\n",
    "    ])\n",
    "}\n",
    "\n",
    "dataDir = '..\\\\data\\\\CUB_200_2011\\\\CUB_200_2011\\\\images'\n",
    "modelPath = '..\\\\data\\\\models\\\\best_model_VGG19_fixedTransformers.pth'"
   ]
  },
  {
   "cell_type": "code",
   "execution_count": 7,
   "metadata": {},
   "outputs": [
    {
     "name": "stdout",
     "output_type": "stream",
     "text": [
      "Please wait patiently, it may take some seconds...\n",
      "\n",
      "Training Episode: 1...\n"
     ]
    },
    {
     "name": "stderr",
     "output_type": "stream",
     "text": [
      "Downloading: \"https://download.pytorch.org/models/vgg19-dcbb9e9d.pth\" to C:\\Users\\rperera23/.cache\\torch\\hub\\checkpoints\\vgg19-dcbb9e9d.pth\n"
     ]
    },
    {
     "name": "stdout",
     "output_type": "stream",
     "text": [
      "{'train': 25, 'test': 75}\n",
      "epoch: 0, accuracy: 0.240000, avg. loss: 1.924357, test accuracy: 0.440000\n",
      "epoch: 1, accuracy: 0.720000, avg. loss: 1.331329, test accuracy: 0.493333\n",
      "epoch: 2, accuracy: 0.960000, avg. loss: 0.431113, test accuracy: 0.653333\n",
      "epoch: 3, accuracy: 1.000000, avg. loss: 0.083693, test accuracy: 0.653333\n",
      "epoch: 4, accuracy: 1.000000, avg. loss: 0.040883, test accuracy: 0.653333\n",
      "epoch: 5, accuracy: 1.000000, avg. loss: 0.023425, test accuracy: 0.653333\n",
      "epoch: 6, accuracy: 1.000000, avg. loss: 0.023900, test accuracy: 0.653333\n",
      "epoch: 7, accuracy: 1.000000, avg. loss: 0.017489, test accuracy: 0.653333\n",
      "epoch: 8, accuracy: 1.000000, avg. loss: 0.023236, test accuracy: 0.653333\n",
      "epoch: 9, accuracy: 1.000000, avg. loss: 0.010834, test accuracy: 0.653333\n",
      "epoch: 10, accuracy: 1.000000, avg. loss: 0.007759, test accuracy: 0.653333\n",
      "epoch: 11, accuracy: 1.000000, avg. loss: 0.013679, test accuracy: 0.653333\n",
      "epoch: 12, accuracy: 1.000000, avg. loss: 0.010752, test accuracy: 0.653333\n",
      "epoch: 13, accuracy: 1.000000, avg. loss: 0.010621, test accuracy: 0.653333\n",
      "epoch: 14, accuracy: 1.000000, avg. loss: 0.009727, test accuracy: 0.653333\n",
      "epoch: 15, accuracy: 1.000000, avg. loss: 0.010189, test accuracy: 0.653333\n",
      "epoch: 16, accuracy: 1.000000, avg. loss: 0.008996, test accuracy: 0.653333\n",
      "epoch: 17, accuracy: 1.000000, avg. loss: 0.010433, test accuracy: 0.653333\n",
      "epoch: 18, accuracy: 1.000000, avg. loss: 0.009816, test accuracy: 0.653333\n",
      "epoch: 19, accuracy: 1.000000, avg. loss: 0.011224, test accuracy: 0.653333\n",
      "{'188.Pileated_Woodpecker', '041.Scissor_tailed_Flycatcher', '107.Common_Raven', '080.Green_Kingfisher', '136.Barn_Swallow'}\n",
      "Episode 1: Test Accuracy: 0.6533\n",
      "\n",
      "Training Episode: 2...\n",
      "{'train': 25, 'test': 75}\n",
      "epoch: 0, accuracy: 0.160000, avg. loss: 1.965127, test accuracy: 0.573333\n",
      "epoch: 1, accuracy: 0.880000, avg. loss: 0.415230, test accuracy: 0.746667\n",
      "epoch: 2, accuracy: 0.960000, avg. loss: 0.117332, test accuracy: 0.786667\n",
      "epoch: 3, accuracy: 1.000000, avg. loss: 0.020415, test accuracy: 0.800000\n",
      "epoch: 4, accuracy: 1.000000, avg. loss: 0.015820, test accuracy: 0.813333\n",
      "epoch: 5, accuracy: 1.000000, avg. loss: 0.007734, test accuracy: 0.826667\n",
      "epoch: 6, accuracy: 1.000000, avg. loss: 0.008703, test accuracy: 0.826667\n",
      "epoch: 7, accuracy: 1.000000, avg. loss: 0.007624, test accuracy: 0.826667\n",
      "epoch: 8, accuracy: 1.000000, avg. loss: 0.005306, test accuracy: 0.826667\n",
      "epoch: 9, accuracy: 1.000000, avg. loss: 0.006102, test accuracy: 0.826667\n",
      "epoch: 10, accuracy: 1.000000, avg. loss: 0.007606, test accuracy: 0.826667\n",
      "epoch: 11, accuracy: 1.000000, avg. loss: 0.004806, test accuracy: 0.826667\n",
      "epoch: 12, accuracy: 1.000000, avg. loss: 0.003752, test accuracy: 0.826667\n",
      "epoch: 13, accuracy: 1.000000, avg. loss: 0.005770, test accuracy: 0.826667\n",
      "epoch: 14, accuracy: 1.000000, avg. loss: 0.004464, test accuracy: 0.826667\n",
      "epoch: 15, accuracy: 1.000000, avg. loss: 0.005164, test accuracy: 0.826667\n",
      "epoch: 16, accuracy: 1.000000, avg. loss: 0.005922, test accuracy: 0.826667\n",
      "epoch: 17, accuracy: 1.000000, avg. loss: 0.003733, test accuracy: 0.826667\n",
      "epoch: 18, accuracy: 1.000000, avg. loss: 0.004503, test accuracy: 0.826667\n",
      "epoch: 19, accuracy: 1.000000, avg. loss: 0.003413, test accuracy: 0.826667\n",
      "{'002.Laysan_Albatross', '069.Rufous_Hummingbird', '029.American_Crow', '143.Caspian_Tern', '076.Dark_eyed_Junco'}\n",
      "Episode 2: Test Accuracy: 0.8267\n",
      "\n",
      "Training Episode: 3...\n",
      "{'train': 25, 'test': 75}\n",
      "epoch: 0, accuracy: 0.360000, avg. loss: 1.790223, test accuracy: 0.573333\n",
      "epoch: 1, accuracy: 0.640000, avg. loss: 0.726699, test accuracy: 0.573333\n",
      "epoch: 2, accuracy: 0.880000, avg. loss: 0.589437, test accuracy: 0.800000\n",
      "epoch: 3, accuracy: 1.000000, avg. loss: 0.171115, test accuracy: 0.866667\n",
      "epoch: 4, accuracy: 1.000000, avg. loss: 0.047173, test accuracy: 0.880000\n",
      "epoch: 5, accuracy: 1.000000, avg. loss: 0.020034, test accuracy: 0.880000\n",
      "epoch: 6, accuracy: 1.000000, avg. loss: 0.012506, test accuracy: 0.893333\n",
      "epoch: 7, accuracy: 1.000000, avg. loss: 0.011535, test accuracy: 0.893333\n",
      "epoch: 8, accuracy: 1.000000, avg. loss: 0.011447, test accuracy: 0.893333\n",
      "epoch: 9, accuracy: 1.000000, avg. loss: 0.006506, test accuracy: 0.893333\n",
      "epoch: 10, accuracy: 1.000000, avg. loss: 0.010142, test accuracy: 0.893333\n",
      "epoch: 11, accuracy: 1.000000, avg. loss: 0.009115, test accuracy: 0.893333\n",
      "epoch: 12, accuracy: 1.000000, avg. loss: 0.008349, test accuracy: 0.893333\n",
      "epoch: 13, accuracy: 1.000000, avg. loss: 0.007699, test accuracy: 0.893333\n",
      "epoch: 14, accuracy: 1.000000, avg. loss: 0.012386, test accuracy: 0.893333\n",
      "epoch: 15, accuracy: 1.000000, avg. loss: 0.005369, test accuracy: 0.893333\n",
      "epoch: 16, accuracy: 1.000000, avg. loss: 0.005553, test accuracy: 0.893333\n",
      "epoch: 17, accuracy: 1.000000, avg. loss: 0.005025, test accuracy: 0.893333\n",
      "epoch: 18, accuracy: 1.000000, avg. loss: 0.007657, test accuracy: 0.893333\n",
      "epoch: 19, accuracy: 1.000000, avg. loss: 0.005436, test accuracy: 0.893333\n",
      "{'156.White_eyed_Vireo', '092.Nighthawk', '062.Herring_Gull', '050.Eared_Grebe', '106.Horned_Puffin'}\n",
      "Episode 3: Test Accuracy: 0.8933\n",
      "\n",
      "Training Episode: 4...\n",
      "{'train': 25, 'test': 75}\n",
      "epoch: 0, accuracy: 0.120000, avg. loss: 2.176003, test accuracy: 0.253333\n",
      "epoch: 1, accuracy: 0.440000, avg. loss: 3.137609, test accuracy: 0.386667\n",
      "epoch: 2, accuracy: 0.600000, avg. loss: 1.386974, test accuracy: 0.426667\n",
      "epoch: 3, accuracy: 0.720000, avg. loss: 1.146711, test accuracy: 0.586667\n",
      "epoch: 4, accuracy: 0.760000, avg. loss: 0.867654, test accuracy: 0.653333\n",
      "epoch: 5, accuracy: 0.800000, avg. loss: 0.562443, test accuracy: 0.720000\n",
      "epoch: 6, accuracy: 0.920000, avg. loss: 0.476700, test accuracy: 0.773333\n",
      "epoch: 7, accuracy: 0.960000, avg. loss: 0.410375, test accuracy: 0.800000\n",
      "epoch: 8, accuracy: 1.000000, avg. loss: 0.267951, test accuracy: 0.826667\n",
      "epoch: 9, accuracy: 1.000000, avg. loss: 0.222176, test accuracy: 0.813333\n",
      "epoch: 10, accuracy: 1.000000, avg. loss: 0.166092, test accuracy: 0.813333\n",
      "epoch: 11, accuracy: 1.000000, avg. loss: 0.157004, test accuracy: 0.800000\n",
      "epoch: 12, accuracy: 1.000000, avg. loss: 0.120962, test accuracy: 0.786667\n",
      "epoch: 13, accuracy: 1.000000, avg. loss: 0.089801, test accuracy: 0.773333\n",
      "epoch: 14, accuracy: 1.000000, avg. loss: 0.145146, test accuracy: 0.760000\n",
      "epoch: 15, accuracy: 1.000000, avg. loss: 0.110081, test accuracy: 0.760000\n",
      "epoch: 16, accuracy: 1.000000, avg. loss: 0.084283, test accuracy: 0.760000\n",
      "epoch: 17, accuracy: 1.000000, avg. loss: 0.081231, test accuracy: 0.760000\n",
      "epoch: 18, accuracy: 1.000000, avg. loss: 0.073031, test accuracy: 0.746667\n",
      "epoch: 19, accuracy: 1.000000, avg. loss: 0.073011, test accuracy: 0.746667\n",
      "{'159.Black_and_white_Warbler', '082.Ringed_Kingfisher', '139.Scarlet_Tanager', '097.Orchard_Oriole', '185.Bohemian_Waxwing'}\n",
      "Episode 4: Test Accuracy: 0.7467\n",
      "\n",
      "Training Episode: 5...\n",
      "{'train': 25, 'test': 75}\n",
      "epoch: 0, accuracy: 0.280000, avg. loss: 1.847472, test accuracy: 0.506667\n",
      "epoch: 1, accuracy: 0.600000, avg. loss: 0.701523, test accuracy: 0.333333\n",
      "epoch: 2, accuracy: 0.640000, avg. loss: 1.167240, test accuracy: 0.680000\n",
      "epoch: 3, accuracy: 0.680000, avg. loss: 0.731875, test accuracy: 0.746667\n",
      "epoch: 4, accuracy: 1.000000, avg. loss: 0.288042, test accuracy: 0.786667\n",
      "epoch: 5, accuracy: 1.000000, avg. loss: 0.073154, test accuracy: 0.786667\n",
      "epoch: 6, accuracy: 1.000000, avg. loss: 0.045132, test accuracy: 0.786667\n",
      "epoch: 7, accuracy: 1.000000, avg. loss: 0.047560, test accuracy: 0.760000\n",
      "epoch: 8, accuracy: 1.000000, avg. loss: 0.038433, test accuracy: 0.733333\n",
      "epoch: 9, accuracy: 1.000000, avg. loss: 0.019918, test accuracy: 0.733333\n",
      "epoch: 10, accuracy: 1.000000, avg. loss: 0.014326, test accuracy: 0.733333\n",
      "epoch: 11, accuracy: 1.000000, avg. loss: 0.021398, test accuracy: 0.733333\n",
      "epoch: 12, accuracy: 1.000000, avg. loss: 0.019443, test accuracy: 0.733333\n",
      "epoch: 13, accuracy: 1.000000, avg. loss: 0.014254, test accuracy: 0.733333\n",
      "epoch: 14, accuracy: 1.000000, avg. loss: 0.013200, test accuracy: 0.733333\n",
      "epoch: 15, accuracy: 1.000000, avg. loss: 0.009559, test accuracy: 0.733333\n",
      "epoch: 16, accuracy: 1.000000, avg. loss: 0.012820, test accuracy: 0.733333\n",
      "epoch: 17, accuracy: 1.000000, avg. loss: 0.010314, test accuracy: 0.733333\n",
      "epoch: 18, accuracy: 1.000000, avg. loss: 0.012971, test accuracy: 0.733333\n",
      "epoch: 19, accuracy: 1.000000, avg. loss: 0.004711, test accuracy: 0.733333\n",
      "{'091.Mockingbird', '125.Lincoln_Sparrow', '030.Fish_Crow', '112.Great_Grey_Shrike', '177.Prothonotary_Warbler'}\n",
      "Episode 5: Test Accuracy: 0.7333\n",
      "\n",
      "Average Test Accuracy: 0.7706666666666666\n"
     ]
    }
   ],
   "source": [
    "print('Please wait patiently, it may take some seconds...')\n",
    "total_test_acc = 0.0\n",
    "\n",
    "good_classes = [set() for _ in range(EPISODES)]\n",
    "bad_classes = set()\n",
    "\n",
    "for episode in range(EPISODES):\n",
    "    print(f\"\\nTraining Episode: {episode + 1}...\")\n",
    "    \n",
    "    loaded_model = torch.load(modelPath, map_location=device)\n",
    "    model = VGG19(64)\n",
    "    model.load_state_dict(loaded_model)\n",
    "    model.model.head.fc = nn.Linear(model.model.head.fc.in_features, 5).to(device)\n",
    "\n",
    "    for param in model.parameters():\n",
    "        param.requires_grad = True\n",
    "    \n",
    "    criterion = torch.nn.CrossEntropyLoss()\n",
    "    optimizer = torch.optim.SGD(params = model.parameters(), lr = LEARNING_RATE, momentum = MOMENTUM, weight_decay = WEIGHT_DECAY)\n",
    "    scheduler = torch.optim.lr_scheduler.StepLR(optimizer, step_size = STEP_SIZE, gamma = GAMMA)\n",
    "    dataloaders, class_names, dataset_sizes = createEuroSatDataLoaders(data_transforms, dataDir, split=0.25, batch_size = BATCH_SIZE)\n",
    "    print(dataset_sizes)\n",
    "    \n",
    "    model, _, _ = train_fine_tuning(model, dataloaders, criterion, optimizer, scheduler, num_epochs = NUM_EPOCHS, learning_rate = LEARNING_RATE)\n",
    "    test_loader = dataloaders['test']\n",
    "    acc_test, test_loss = eval_method(net=model, data_loader=test_loader)\n",
    "    total_test_acc += acc_test\n",
    "    if acc_test < 0.6:\n",
    "        bad_classes.update(class_names)\n",
    "    elif acc_test > 0.7:\n",
    "        good_classes[episode].update(class_names)\n",
    "    print(class_names)\n",
    "    print(f\"Episode {episode + 1}: Test Accuracy: {acc_test:.4f}\")\n",
    "\n",
    "average_test_acc = total_test_acc / EPISODES\n",
    "print(\"\\nAverage Test Accuracy:\", average_test_acc)"
   ]
  },
  {
   "cell_type": "code",
   "execution_count": 8,
   "metadata": {},
   "outputs": [
    {
     "name": "stdout",
     "output_type": "stream",
     "text": [
      "set()\n",
      "set()\n",
      "set()\n",
      "set()\n",
      "set()\n",
      "set()\n"
     ]
    }
   ],
   "source": [
    "for good_set in good_classes:\n",
    "    print(bad_classes - good_set)\n",
    "print(bad_classes)"
   ]
  }
 ],
 "metadata": {
  "kernelspec": {
   "display_name": "Python 3 (ipykernel)",
   "language": "python",
   "name": "python3"
  },
  "language_info": {
   "codemirror_mode": {
    "name": "ipython",
    "version": 3
   },
   "file_extension": ".py",
   "mimetype": "text/x-python",
   "name": "python",
   "nbconvert_exporter": "python",
   "pygments_lexer": "ipython3",
   "version": "3.9.16"
  }
 },
 "nbformat": 4,
 "nbformat_minor": 4
}
