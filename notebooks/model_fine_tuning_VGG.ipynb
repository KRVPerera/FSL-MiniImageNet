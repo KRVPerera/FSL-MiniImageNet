{
 "cells": [
  {
   "cell_type": "code",
   "execution_count": 1,
   "metadata": {},
   "outputs": [
    {
     "name": "stdout",
     "output_type": "stream",
     "text": [
      "Defaulting to user installation because normal site-packages is not writeable\n",
      "Requirement already satisfied: gdown in c:\\users\\rperera23\\appdata\\roaming\\python\\python39\\site-packages (4.7.1)\n",
      "Requirement already satisfied: tqdm in c:\\program files\\arcgis\\pro\\bin\\python\\envs\\arcgispro-py3\\lib\\site-packages (from gdown) (4.64.1)\n",
      "Requirement already satisfied: filelock in c:\\program files\\arcgis\\pro\\bin\\python\\envs\\arcgispro-py3\\lib\\site-packages (from gdown) (3.9.0)\n",
      "Requirement already satisfied: six in c:\\program files\\arcgis\\pro\\bin\\python\\envs\\arcgispro-py3\\lib\\site-packages (from gdown) (1.16.0)\n",
      "Requirement already satisfied: requests[socks] in c:\\program files\\arcgis\\pro\\bin\\python\\envs\\arcgispro-py3\\lib\\site-packages (from gdown) (2.28.1)\n",
      "Requirement already satisfied: beautifulsoup4 in c:\\program files\\arcgis\\pro\\bin\\python\\envs\\arcgispro-py3\\lib\\site-packages (from gdown) (4.11.1)\n",
      "Requirement already satisfied: soupsieve>1.2 in c:\\program files\\arcgis\\pro\\bin\\python\\envs\\arcgispro-py3\\lib\\site-packages (from beautifulsoup4->gdown) (2.3.2.post1)\n",
      "Requirement already satisfied: idna<4,>=2.5 in c:\\program files\\arcgis\\pro\\bin\\python\\envs\\arcgispro-py3\\lib\\site-packages (from requests[socks]->gdown) (3.4)\n",
      "Requirement already satisfied: charset-normalizer<3,>=2 in c:\\program files\\arcgis\\pro\\bin\\python\\envs\\arcgispro-py3\\lib\\site-packages (from requests[socks]->gdown) (2.0.4)\n",
      "Requirement already satisfied: certifi>=2017.4.17 in c:\\program files\\arcgis\\pro\\bin\\python\\envs\\arcgispro-py3\\lib\\site-packages (from requests[socks]->gdown) (2022.9.24)\n",
      "Requirement already satisfied: urllib3<1.27,>=1.21.1 in c:\\program files\\arcgis\\pro\\bin\\python\\envs\\arcgispro-py3\\lib\\site-packages (from requests[socks]->gdown) (1.26.12)\n",
      "Requirement already satisfied: PySocks!=1.5.7,>=1.5.6 in c:\\program files\\arcgis\\pro\\bin\\python\\envs\\arcgispro-py3\\lib\\site-packages (from requests[socks]->gdown) (1.7.1)\n",
      "Requirement already satisfied: colorama in c:\\program files\\arcgis\\pro\\bin\\python\\envs\\arcgispro-py3\\lib\\site-packages (from tqdm->gdown) (0.4.5)\n"
     ]
    }
   ],
   "source": [
    "!pip install gdown"
   ]
  },
  {
   "cell_type": "code",
   "execution_count": 2,
   "metadata": {},
   "outputs": [
    {
     "data": {
      "text/plain": [
       "<contextlib.ExitStack at 0x27eb0965eb0>"
      ]
     },
     "execution_count": 2,
     "metadata": {},
     "output_type": "execute_result"
    }
   ],
   "source": [
    "import sys\n",
    "sys.path.append('..')\n",
    "import torch\n",
    "import torch.nn as nn\n",
    "import torch.backends.cudnn as cudnn\n",
    "import matplotlib.pyplot as plt\n",
    "import os\n",
    "import torchvision\n",
    "from torchvision import datasets, models, transforms\n",
    "from torch.optim.lr_scheduler import StepLR\n",
    "\n",
    "\n",
    "from src.models import VGG19\n",
    "from src.dataloader import EuroSatDownloader\n",
    "from src.training import train_fine_tuning, eval_method, eval_func\n",
    "from src.dataloader import MiniImageNetDataSet, createEuroSatDataLoaders, EuroSatDownloader\n",
    "from src.modelvis import visualize_models\n",
    "\n",
    "plt.ion()\n",
    "\n",
    "'''\n",
    "The line cudnn.benchmark = True is typically used in deep learning projects that utilize the CUDA Deep Neural Network (cuDNN) library.\n",
    "When cudnn.benchmark is set to True, it enables cuDNN to automatically find the best algorithm configuration for the specific \n",
    "input sizes and hardware being used. This can result in improved performance during training and inference.By enabling benchmarking, \n",
    "cuDNN will run a short benchmarking phase during the first iteration of the model to determine the optimal algorithm configuration. \n",
    "This configuration is then cached and used for subsequent iterations, leading to faster execution times.\n",
    "It's important to note that enabling benchmarking may introduce some overhead during the initial benchmarking phase, so it is typically \n",
    "recommended to use it when the input sizes are consistent throughout the training process.\n",
    "Overall, setting cudnn.benchmark to True can help optimize the performance of deep learning models that use cuDNN.\n",
    "'''\n",
    "torch.backends.cudnn.benchmark = True\n",
    "\n",
    "'''\n",
    "The line plt.ion() is a function call that activates interactive mode in matplotlib.\n",
    "When interactive mode is enabled, any plot that is created will be displayed immediately \n",
    "and can be updated dynamically. This means that you can modify the plot after it is displayed, \n",
    "such as changing the data or adding annotations, and the changes will be reflected in real-time.\n",
    "'''\n",
    "plt.ion()"
   ]
  },
  {
   "cell_type": "code",
   "execution_count": 3,
   "metadata": {},
   "outputs": [
    {
     "name": "stdout",
     "output_type": "stream",
     "text": [
      "0.9.2\n",
      "1.8.2\n"
     ]
    }
   ],
   "source": [
    "print(torchvision.__version__)\n",
    "print(torch.__version__)"
   ]
  },
  {
   "cell_type": "code",
   "execution_count": 4,
   "metadata": {},
   "outputs": [
    {
     "name": "stdout",
     "output_type": "stream",
     "text": [
      "cuda:0\n"
     ]
    }
   ],
   "source": [
    "device = torch.device(\"cuda:0\" if torch.cuda.is_available() else \"cpu\")\n",
    "print(device)"
   ]
  },
  {
   "cell_type": "markdown",
   "metadata": {},
   "source": [
    "### Download EuroSat Database"
   ]
  },
  {
   "cell_type": "code",
   "execution_count": 5,
   "metadata": {},
   "outputs": [
    {
     "name": "stderr",
     "output_type": "stream",
     "text": [
      "2024-01-07 05:57:05,839 - INFO - EuroSat database already exists.\n"
     ]
    }
   ],
   "source": [
    "extractDir = '..\\\\data'\n",
    "url = \"https://zenodo.org/records/7711810/files/EuroSAT_RGB.zip?download=1\"\n",
    "downloader = EuroSatDownloader(url, extractDir)\n",
    "dataDir = downloader.download()"
   ]
  },
  {
   "cell_type": "markdown",
   "metadata": {},
   "source": [
    "# Hyperparameters"
   ]
  },
  {
   "cell_type": "code",
   "execution_count": 6,
   "metadata": {},
   "outputs": [],
   "source": [
    "LEARNING_RATE = 0.01\n",
    "WEIGHT_DECAY = 0.001\n",
    "NUM_EPOCHS = 20\n",
    "BATCH_SIZE = 25\n",
    "MOMENTUM = 0.09\n",
    "STEP_SIZE = 5\n",
    "num_of_classes = 64\n",
    "EPISODES = 5\n",
    "GAMMA = 0.5"
   ]
  },
  {
   "cell_type": "code",
   "execution_count": 7,
   "metadata": {},
   "outputs": [],
   "source": [
    "data_transforms = {\n",
    "    'train': transforms.Compose([\n",
    "        transforms.Resize(224),\n",
    "        transforms.ColorJitter(brightness=0.4, contrast=0.4, saturation=0.4),\n",
    "        transforms.RandomHorizontalFlip(),\n",
    "        transforms.GaussianBlur(3, sigma=(0.1, 2.0)),\n",
    "        transforms.ToTensor(),\n",
    "        transforms.Normalize((0.485, 0.456, 0.406), (0.229, 0.224, 0.225)),\n",
    "    ]),\n",
    "    'test': transforms.Compose([\n",
    "        transforms.Resize(224),\n",
    "        transforms.ToTensor(),\n",
    "        transforms.Normalize((0.485, 0.456, 0.406), (0.229, 0.224, 0.225)),\n",
    "    ])\n",
    "}\n",
    "\n",
    "# overall\n",
    "# Overall Mean of RGB channels: tensor([0.3460, 0.3829, 0.4096])\n",
    "# Overall Standard Deviation of RGB channels: tensor([0.0913, 0.0630, 0.0522])\n",
    "\n",
    "#pasture\n",
    "#tensor([0.1518, 0.2503, 0.2958])\n",
    "#tensor([0.0136, 0.0150, 0.0087])\n",
    "\n",
    "# highway\n",
    "#tensor([0.2684, 0.3432, 0.3769])\n",
    "#tensor([0.0997, 0.0726, 0.0556])\n",
    "\n",
    "dataDir = '..\\\\data\\\\EuroSAT_RGB'\n",
    "modelPath = '..\\\\data\\\\models\\\\best_model_VGG19_fixedTransformers.pth'"
   ]
  },
  {
   "cell_type": "code",
   "execution_count": 8,
   "metadata": {},
   "outputs": [
    {
     "name": "stdout",
     "output_type": "stream",
     "text": [
      "Please wait patiently, it may take some seconds...\n",
      "\n",
      "Training Episode: 1...\n"
     ]
    },
    {
     "name": "stderr",
     "output_type": "stream",
     "text": [
      "2024-01-07 05:57:13,503 - INFO - Loading pretrained weights from url (https://download.pytorch.org/models/vgg19-dcbb9e9d.pth)\n"
     ]
    },
    {
     "name": "stdout",
     "output_type": "stream",
     "text": [
      "{'train': 25, 'test': 75}\n",
      "epoch: 0, accuracy: 0.040000, avg. loss: 1.956563, test accuracy: 0.653333\n",
      "epoch: 1, accuracy: 0.840000, avg. loss: 0.406671, test accuracy: 0.853333\n",
      "epoch: 2, accuracy: 1.000000, avg. loss: 0.119296, test accuracy: 0.906667\n",
      "epoch: 3, accuracy: 0.960000, avg. loss: 0.070332, test accuracy: 0.893333\n",
      "epoch: 4, accuracy: 1.000000, avg. loss: 0.026844, test accuracy: 0.906667\n",
      "epoch: 5, accuracy: 0.960000, avg. loss: 0.059492, test accuracy: 0.906667\n",
      "epoch: 6, accuracy: 1.000000, avg. loss: 0.020122, test accuracy: 0.906667\n",
      "epoch: 7, accuracy: 1.000000, avg. loss: 0.016955, test accuracy: 0.906667\n",
      "epoch: 8, accuracy: 1.000000, avg. loss: 0.020599, test accuracy: 0.906667\n",
      "epoch: 9, accuracy: 1.000000, avg. loss: 0.021218, test accuracy: 0.906667\n",
      "epoch: 10, accuracy: 1.000000, avg. loss: 0.015043, test accuracy: 0.906667\n",
      "epoch: 11, accuracy: 1.000000, avg. loss: 0.015962, test accuracy: 0.906667\n",
      "epoch: 12, accuracy: 1.000000, avg. loss: 0.011298, test accuracy: 0.906667\n",
      "epoch: 13, accuracy: 1.000000, avg. loss: 0.019833, test accuracy: 0.906667\n",
      "epoch: 14, accuracy: 1.000000, avg. loss: 0.011644, test accuracy: 0.906667\n",
      "epoch: 15, accuracy: 1.000000, avg. loss: 0.022904, test accuracy: 0.906667\n",
      "epoch: 16, accuracy: 1.000000, avg. loss: 0.011539, test accuracy: 0.906667\n",
      "epoch: 17, accuracy: 1.000000, avg. loss: 0.018997, test accuracy: 0.906667\n",
      "epoch: 18, accuracy: 1.000000, avg. loss: 0.010355, test accuracy: 0.906667\n",
      "epoch: 19, accuracy: 1.000000, avg. loss: 0.012359, test accuracy: 0.906667\n",
      "{'SeaLake', 'AnnualCrop', 'Residential', 'PermanentCrop', 'HerbaceousVegetation'}\n",
      "Episode 1: Test Accuracy: 0.9067\n",
      "\n",
      "Training Episode: 2...\n"
     ]
    },
    {
     "name": "stderr",
     "output_type": "stream",
     "text": [
      "2024-01-07 06:01:37,050 - INFO - Loading pretrained weights from url (https://download.pytorch.org/models/vgg19-dcbb9e9d.pth)\n"
     ]
    },
    {
     "name": "stdout",
     "output_type": "stream",
     "text": [
      "{'train': 25, 'test': 75}\n",
      "epoch: 0, accuracy: 0.120000, avg. loss: 1.715028, test accuracy: 0.426667\n",
      "epoch: 1, accuracy: 0.880000, avg. loss: 0.446824, test accuracy: 0.520000\n",
      "epoch: 2, accuracy: 1.000000, avg. loss: 0.151307, test accuracy: 0.573333\n",
      "epoch: 3, accuracy: 0.960000, avg. loss: 0.098891, test accuracy: 0.600000\n",
      "epoch: 4, accuracy: 0.960000, avg. loss: 0.115564, test accuracy: 0.613333\n",
      "epoch: 5, accuracy: 0.920000, avg. loss: 0.116700, test accuracy: 0.586667\n",
      "epoch: 6, accuracy: 1.000000, avg. loss: 0.061740, test accuracy: 0.626667\n",
      "epoch: 7, accuracy: 1.000000, avg. loss: 0.018169, test accuracy: 0.626667\n",
      "epoch: 8, accuracy: 1.000000, avg. loss: 0.038902, test accuracy: 0.546667\n",
      "epoch: 9, accuracy: 1.000000, avg. loss: 0.010448, test accuracy: 0.560000\n",
      "epoch: 10, accuracy: 1.000000, avg. loss: 0.008144, test accuracy: 0.560000\n",
      "epoch: 11, accuracy: 1.000000, avg. loss: 0.018366, test accuracy: 0.586667\n",
      "epoch: 12, accuracy: 1.000000, avg. loss: 0.017523, test accuracy: 0.573333\n",
      "epoch: 13, accuracy: 1.000000, avg. loss: 0.009288, test accuracy: 0.586667\n",
      "epoch: 14, accuracy: 1.000000, avg. loss: 0.008917, test accuracy: 0.586667\n",
      "epoch: 15, accuracy: 1.000000, avg. loss: 0.012779, test accuracy: 0.573333\n",
      "epoch: 16, accuracy: 1.000000, avg. loss: 0.010490, test accuracy: 0.573333\n",
      "epoch: 17, accuracy: 1.000000, avg. loss: 0.009699, test accuracy: 0.573333\n",
      "epoch: 18, accuracy: 1.000000, avg. loss: 0.006474, test accuracy: 0.573333\n",
      "epoch: 19, accuracy: 1.000000, avg. loss: 0.010460, test accuracy: 0.586667\n",
      "{'Industrial', 'Highway', 'River', 'Pasture', 'HerbaceousVegetation'}\n",
      "Episode 2: Test Accuracy: 0.5867\n",
      "\n",
      "Training Episode: 3...\n"
     ]
    },
    {
     "name": "stderr",
     "output_type": "stream",
     "text": [
      "2024-01-07 06:05:34,563 - INFO - Loading pretrained weights from url (https://download.pytorch.org/models/vgg19-dcbb9e9d.pth)\n"
     ]
    },
    {
     "name": "stdout",
     "output_type": "stream",
     "text": [
      "{'train': 25, 'test': 75}\n",
      "epoch: 0, accuracy: 0.040000, avg. loss: 1.855824, test accuracy: 0.653333\n",
      "epoch: 1, accuracy: 0.880000, avg. loss: 0.527990, test accuracy: 0.773333\n",
      "epoch: 2, accuracy: 0.920000, avg. loss: 0.270029, test accuracy: 0.733333\n",
      "epoch: 3, accuracy: 0.960000, avg. loss: 0.176854, test accuracy: 0.906667\n",
      "epoch: 4, accuracy: 1.000000, avg. loss: 0.046079, test accuracy: 0.880000\n",
      "epoch: 5, accuracy: 1.000000, avg. loss: 0.035495, test accuracy: 0.893333\n",
      "epoch: 6, accuracy: 1.000000, avg. loss: 0.037771, test accuracy: 0.893333\n",
      "epoch: 7, accuracy: 1.000000, avg. loss: 0.030600, test accuracy: 0.893333\n",
      "epoch: 8, accuracy: 1.000000, avg. loss: 0.021933, test accuracy: 0.893333\n",
      "epoch: 9, accuracy: 1.000000, avg. loss: 0.014903, test accuracy: 0.893333\n",
      "epoch: 10, accuracy: 1.000000, avg. loss: 0.013918, test accuracy: 0.893333\n",
      "epoch: 11, accuracy: 1.000000, avg. loss: 0.012297, test accuracy: 0.893333\n",
      "epoch: 12, accuracy: 1.000000, avg. loss: 0.014719, test accuracy: 0.893333\n",
      "epoch: 13, accuracy: 1.000000, avg. loss: 0.010999, test accuracy: 0.893333\n",
      "epoch: 14, accuracy: 1.000000, avg. loss: 0.025305, test accuracy: 0.893333\n",
      "epoch: 15, accuracy: 1.000000, avg. loss: 0.008736, test accuracy: 0.893333\n",
      "epoch: 16, accuracy: 1.000000, avg. loss: 0.033647, test accuracy: 0.893333\n",
      "epoch: 17, accuracy: 1.000000, avg. loss: 0.016297, test accuracy: 0.893333\n",
      "epoch: 18, accuracy: 0.960000, avg. loss: 0.045826, test accuracy: 0.893333\n",
      "epoch: 19, accuracy: 1.000000, avg. loss: 0.019772, test accuracy: 0.893333\n",
      "{'Forest', 'Industrial', 'Pasture', 'River', 'PermanentCrop'}\n",
      "Episode 3: Test Accuracy: 0.8933\n",
      "\n",
      "Training Episode: 4...\n"
     ]
    },
    {
     "name": "stderr",
     "output_type": "stream",
     "text": [
      "2024-01-07 06:08:32,674 - INFO - Loading pretrained weights from url (https://download.pytorch.org/models/vgg19-dcbb9e9d.pth)\n"
     ]
    },
    {
     "name": "stdout",
     "output_type": "stream",
     "text": [
      "{'train': 25, 'test': 75}\n",
      "epoch: 0, accuracy: 0.200000, avg. loss: 1.779152, test accuracy: 0.520000\n",
      "epoch: 1, accuracy: 0.640000, avg. loss: 0.929458, test accuracy: 0.560000\n",
      "epoch: 2, accuracy: 0.760000, avg. loss: 0.836164, test accuracy: 0.760000\n",
      "epoch: 3, accuracy: 0.960000, avg. loss: 0.286932, test accuracy: 0.706667\n",
      "epoch: 4, accuracy: 1.000000, avg. loss: 0.127851, test accuracy: 0.706667\n",
      "epoch: 5, accuracy: 1.000000, avg. loss: 0.071696, test accuracy: 0.720000\n",
      "epoch: 6, accuracy: 1.000000, avg. loss: 0.058193, test accuracy: 0.720000\n",
      "epoch: 7, accuracy: 1.000000, avg. loss: 0.044010, test accuracy: 0.720000\n",
      "epoch: 8, accuracy: 1.000000, avg. loss: 0.026502, test accuracy: 0.720000\n",
      "epoch: 9, accuracy: 1.000000, avg. loss: 0.030723, test accuracy: 0.706667\n",
      "epoch: 10, accuracy: 1.000000, avg. loss: 0.028890, test accuracy: 0.733333\n",
      "epoch: 11, accuracy: 1.000000, avg. loss: 0.033680, test accuracy: 0.733333\n",
      "epoch: 12, accuracy: 1.000000, avg. loss: 0.024792, test accuracy: 0.733333\n",
      "epoch: 13, accuracy: 1.000000, avg. loss: 0.020381, test accuracy: 0.733333\n",
      "epoch: 14, accuracy: 1.000000, avg. loss: 0.021194, test accuracy: 0.733333\n",
      "epoch: 15, accuracy: 1.000000, avg. loss: 0.013912, test accuracy: 0.733333\n",
      "epoch: 16, accuracy: 1.000000, avg. loss: 0.024459, test accuracy: 0.733333\n",
      "epoch: 17, accuracy: 1.000000, avg. loss: 0.019937, test accuracy: 0.733333\n",
      "epoch: 18, accuracy: 1.000000, avg. loss: 0.019137, test accuracy: 0.733333\n",
      "epoch: 19, accuracy: 1.000000, avg. loss: 0.023398, test accuracy: 0.733333\n",
      "{'Industrial', 'Highway', 'AnnualCrop', 'Residential', 'River'}\n",
      "Episode 4: Test Accuracy: 0.7333\n",
      "\n",
      "Training Episode: 5...\n"
     ]
    },
    {
     "name": "stderr",
     "output_type": "stream",
     "text": [
      "2024-01-07 06:11:21,963 - INFO - Loading pretrained weights from url (https://download.pytorch.org/models/vgg19-dcbb9e9d.pth)\n"
     ]
    },
    {
     "name": "stdout",
     "output_type": "stream",
     "text": [
      "{'train': 25, 'test': 75}\n",
      "epoch: 0, accuracy: 0.280000, avg. loss: 1.706629, test accuracy: 0.720000\n",
      "epoch: 1, accuracy: 0.800000, avg. loss: 0.491093, test accuracy: 0.626667\n",
      "epoch: 2, accuracy: 0.680000, avg. loss: 0.775065, test accuracy: 0.680000\n",
      "epoch: 3, accuracy: 0.680000, avg. loss: 1.153667, test accuracy: 0.733333\n",
      "epoch: 4, accuracy: 0.920000, avg. loss: 0.356677, test accuracy: 0.826667\n",
      "epoch: 5, accuracy: 1.000000, avg. loss: 0.144526, test accuracy: 0.853333\n",
      "epoch: 6, accuracy: 1.000000, avg. loss: 0.080384, test accuracy: 0.853333\n",
      "epoch: 7, accuracy: 1.000000, avg. loss: 0.064765, test accuracy: 0.840000\n",
      "epoch: 8, accuracy: 1.000000, avg. loss: 0.075202, test accuracy: 0.826667\n",
      "epoch: 9, accuracy: 1.000000, avg. loss: 0.045965, test accuracy: 0.826667\n",
      "epoch: 10, accuracy: 1.000000, avg. loss: 0.037618, test accuracy: 0.826667\n",
      "epoch: 11, accuracy: 1.000000, avg. loss: 0.033627, test accuracy: 0.826667\n",
      "epoch: 12, accuracy: 1.000000, avg. loss: 0.026389, test accuracy: 0.826667\n",
      "epoch: 13, accuracy: 1.000000, avg. loss: 0.029812, test accuracy: 0.826667\n",
      "epoch: 14, accuracy: 1.000000, avg. loss: 0.029166, test accuracy: 0.826667\n",
      "epoch: 15, accuracy: 1.000000, avg. loss: 0.035648, test accuracy: 0.826667\n",
      "epoch: 16, accuracy: 1.000000, avg. loss: 0.026580, test accuracy: 0.826667\n",
      "epoch: 17, accuracy: 1.000000, avg. loss: 0.024463, test accuracy: 0.826667\n",
      "epoch: 18, accuracy: 1.000000, avg. loss: 0.026207, test accuracy: 0.826667\n",
      "epoch: 19, accuracy: 1.000000, avg. loss: 0.029458, test accuracy: 0.826667\n",
      "{'Industrial', 'AnnualCrop', 'Highway', 'Pasture', 'HerbaceousVegetation'}\n",
      "Episode 5: Test Accuracy: 0.8267\n",
      "\n",
      "Average Test Accuracy: 0.7893333333333333\n"
     ]
    }
   ],
   "source": [
    "print('Please wait patiently, it may take some seconds...')\n",
    "total_test_acc = 0.0\n",
    "\n",
    "good_classes = [set() for _ in range(EPISODES)]\n",
    "bad_classes = set()\n",
    "\n",
    "for episode in range(EPISODES):\n",
    "    print(f\"\\nTraining Episode: {episode + 1}...\")\n",
    "    \n",
    "    loaded_model = torch.load(modelPath, map_location=device)\n",
    "    model = VGG19(64)\n",
    "    model.load_state_dict(loaded_model)\n",
    "    model.model.head.fc = nn.Linear(model.model.head.fc.in_features, 5).to(device)\n",
    "\n",
    "    for param in model.parameters():\n",
    "        param.requires_grad = True\n",
    "    \n",
    "    criterion = torch.nn.CrossEntropyLoss()\n",
    "    optimizer = torch.optim.SGD(params = model.parameters(), lr = LEARNING_RATE, momentum = MOMENTUM, weight_decay = WEIGHT_DECAY)\n",
    "    scheduler = torch.optim.lr_scheduler.StepLR(optimizer, step_size = STEP_SIZE, gamma = GAMMA)\n",
    "    dataloaders, class_names, dataset_sizes = createEuroSatDataLoaders(data_transforms, dataDir, split=0.25, batch_size = BATCH_SIZE)\n",
    "    print(dataset_sizes)\n",
    "    \n",
    "    model, _, _ = train_fine_tuning(model, dataloaders, criterion, optimizer, scheduler, num_epochs = NUM_EPOCHS, learning_rate = LEARNING_RATE)\n",
    "    test_loader = dataloaders['test']\n",
    "    acc_test, test_loss = eval_method(net=model, data_loader=test_loader)\n",
    "    total_test_acc += acc_test\n",
    "    if acc_test < 0.6:\n",
    "        bad_classes.update(class_names)\n",
    "    elif acc_test > 0.7:\n",
    "        good_classes[episode].update(class_names)\n",
    "    print(class_names)\n",
    "    print(f\"Episode {episode + 1}: Test Accuracy: {acc_test:.4f}\")\n",
    "\n",
    "average_test_acc = total_test_acc / EPISODES\n",
    "print(\"\\nAverage Test Accuracy:\", average_test_acc)"
   ]
  },
  {
   "cell_type": "code",
   "execution_count": 9,
   "metadata": {},
   "outputs": [
    {
     "name": "stdout",
     "output_type": "stream",
     "text": [
      "{'River', 'Industrial', 'Pasture', 'Highway'}\n",
      "{'River', 'Pasture', 'Industrial', 'Highway', 'HerbaceousVegetation'}\n",
      "{'Highway', 'HerbaceousVegetation'}\n",
      "{'Pasture', 'HerbaceousVegetation'}\n",
      "{'River'}\n",
      "{'River', 'Pasture', 'Industrial', 'Highway', 'HerbaceousVegetation'}\n"
     ]
    }
   ],
   "source": [
    "for good_set in good_classes:\n",
    "    print(bad_classes - good_set)\n",
    "print(bad_classes)"
   ]
  }
 ],
 "metadata": {
  "kernelspec": {
   "display_name": "Python 3 (ipykernel)",
   "language": "python",
   "name": "python3"
  },
  "language_info": {
   "codemirror_mode": {
    "name": "ipython",
    "version": 3
   },
   "file_extension": ".py",
   "mimetype": "text/x-python",
   "name": "python",
   "nbconvert_exporter": "python",
   "pygments_lexer": "ipython3",
   "version": "3.9.16"
  }
 },
 "nbformat": 4,
 "nbformat_minor": 4
}
