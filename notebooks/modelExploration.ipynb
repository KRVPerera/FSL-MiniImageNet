{
 "cells": [
  {
   "cell_type": "code",
   "execution_count": 7,
   "id": "9f60b5cc-9616-43e2-86be-1b1b0e0afb7e",
   "metadata": {},
   "outputs": [],
   "source": [
    "import timm\n",
    "import torch\n",
    "import torch.nn as nn"
   ]
  },
  {
   "cell_type": "code",
   "execution_count": 2,
   "id": "8325dfbd-32ca-41dc-b5a6-e058312237df",
   "metadata": {},
   "outputs": [
    {
     "data": {
      "text/plain": [
       "(452,\n",
       " ['adv_inception_v3',\n",
       "  'cait_m36_384',\n",
       "  'cait_m48_448',\n",
       "  'cait_s24_224',\n",
       "  'cait_s24_384'])"
      ]
     },
     "execution_count": 2,
     "metadata": {},
     "output_type": "execute_result"
    }
   ],
   "source": [
    "avail_pretrained_models = timm.list_models(pretrained=True)\n",
    "len(avail_pretrained_models), avail_pretrained_models[:5]"
   ]
  },
  {
   "cell_type": "code",
   "execution_count": 4,
   "id": "6473e2d6-3f29-4144-9e52-e13e3c11d6f6",
   "metadata": {},
   "outputs": [],
   "source": [
    "def searchModels(string_list, starting):\n",
    "    for string in string_list:\n",
    "        if string.startswith(starting):\n",
    "            print(string)"
   ]
  },
  {
   "cell_type": "code",
   "execution_count": 5,
   "id": "f280ebb8-3eec-4e02-b07f-ebee50132eee",
   "metadata": {},
   "outputs": [
    {
     "name": "stdout",
     "output_type": "stream",
     "text": [
      "resnet18\n",
      "resnet18d\n",
      "resnet26\n",
      "resnet26d\n",
      "resnet34\n",
      "resnet34d\n",
      "resnet50\n",
      "resnet50d\n",
      "resnet51q\n",
      "resnet101d\n",
      "resnet152d\n",
      "resnet200d\n",
      "resnetblur50\n",
      "resnetrs50\n",
      "resnetrs101\n",
      "resnetrs152\n",
      "resnetrs200\n",
      "resnetrs270\n",
      "resnetrs350\n",
      "resnetrs420\n",
      "resnetv2_50x1_bit_distilled\n",
      "resnetv2_50x1_bitm\n",
      "resnetv2_50x1_bitm_in21k\n",
      "resnetv2_50x3_bitm\n",
      "resnetv2_50x3_bitm_in21k\n",
      "resnetv2_101x1_bitm\n",
      "resnetv2_101x1_bitm_in21k\n",
      "resnetv2_101x3_bitm\n",
      "resnetv2_101x3_bitm_in21k\n",
      "resnetv2_152x2_bit_teacher\n",
      "resnetv2_152x2_bit_teacher_384\n",
      "resnetv2_152x2_bitm\n",
      "resnetv2_152x2_bitm_in21k\n",
      "resnetv2_152x4_bitm\n",
      "resnetv2_152x4_bitm_in21k\n"
     ]
    }
   ],
   "source": [
    "searchModels(avail_pretrained_models, 'resnet')"
   ]
  },
  {
   "cell_type": "code",
   "execution_count": 8,
   "id": "47062014-99b7-4068-b2e4-963ed4efeb7e",
   "metadata": {},
   "outputs": [],
   "source": [
    "class ModelResnet152d(nn.Module):\n",
    "    def __init__(self, output_count):\n",
    "        super().__init__()\n",
    "        self.model = create_model('resnet152d', pretrained=True)\n",
    "        self.model.fc = nn.Linear(self.model.fc.in_features, output_count)\n",
    "\n",
    "    def forward(self, x: torch.Tensor) -> torch.Tensor:\n",
    "        return self.model(x)"
   ]
  },
  {
   "cell_type": "code",
   "execution_count": null,
   "id": "e527a531-0d9c-42f7-973d-d9d63fc77d5f",
   "metadata": {},
   "outputs": [],
   "source": [
    "class ModelResnet152(nn.Module):\n",
    "    def __init__(self, output_count):\n",
    "        super().__init__()\n",
    "        self.model = create_model('resnet152d', pretrained=True)\n",
    "        self.model.fc = nn.Linear(self.model.fc.in_features, output_count)\n",
    "\n",
    "    def forward(self, x: torch.Tensor) -> torch.Tensor:\n",
    "        return self.model(x)"
   ]
  },
  {
   "cell_type": "code",
   "execution_count": 11,
   "id": "b4ccde33-843a-48a4-918f-953d86e55a0d",
   "metadata": {},
   "outputs": [
    {
     "name": "stdout",
     "output_type": "stream",
     "text": [
      "vgg11\n",
      "vgg11_bn\n",
      "vgg13\n",
      "vgg13_bn\n",
      "vgg16\n",
      "vgg16_bn\n",
      "vgg19\n",
      "vgg19_bn\n"
     ]
    }
   ],
   "source": [
    "searchModels(avail_pretrained_models, 'vg')"
   ]
  },
  {
   "cell_type": "code",
   "execution_count": null,
   "id": "0eae036a-644d-4197-8e6c-b5f15c869ef1",
   "metadata": {},
   "outputs": [],
   "source": []
  }
 ],
 "metadata": {
  "kernelspec": {
   "display_name": "Python 3 (ipykernel)",
   "language": "python",
   "name": "python3"
  },
  "language_info": {
   "codemirror_mode": {
    "name": "ipython",
    "version": 3
   },
   "file_extension": ".py",
   "mimetype": "text/x-python",
   "name": "python",
   "nbconvert_exporter": "python",
   "pygments_lexer": "ipython3",
   "version": "3.9.16"
  }
 },
 "nbformat": 4,
 "nbformat_minor": 5
}
