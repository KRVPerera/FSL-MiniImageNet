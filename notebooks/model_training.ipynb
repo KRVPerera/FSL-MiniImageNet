{
 "cells": [
  {
   "cell_type": "code",
   "execution_count": 1,
   "metadata": {},
   "outputs": [
    {
     "name": "stdout",
     "output_type": "stream",
     "text": [
      "Device: cpu\n"
     ]
    },
    {
     "data": {
      "text/plain": [
       "<contextlib.ExitStack at 0x1abe708f250>"
      ]
     },
     "execution_count": 1,
     "metadata": {},
     "output_type": "execute_result"
    }
   ],
   "source": [
    "import sys\n",
    "sys.path.append('..')\n",
    "import torch\n",
    "import torch.backends.cudnn as cudnn\n",
    "import matplotlib.pyplot as plt\n",
    "from src.training import train_model\n",
    "from src.models import Resnet18_FC_Changed, Shufflenet_v2_x0_5, EfficientNetB0_FC_Changed\n",
    "from torch.optim.lr_scheduler import ReduceLROnPlateau\n",
    "from torch.optim.lr_scheduler import CosineAnnealingWarmRestarts\n",
    "from torch.optim.lr_scheduler import StepLR\n",
    "import os\n",
    "cudnn.benchmark = True\n",
    "plt.ion()"
   ]
  },
  {
   "cell_type": "markdown",
   "metadata": {},
   "source": [
    "# Hyperparameters"
   ]
  },
  {
   "cell_type": "code",
   "execution_count": 2,
   "metadata": {},
   "outputs": [],
   "source": [
    "T_0 = 1000 # Number of iterations for the first restart.\n",
    "LEARNING_RATE=1e-4 # 0.0001\n",
    "WEIGHT_DECAY=1e-8 # 0.000001\n",
    "NUM_EPOCHS=3\n",
    "BATCH_SIZE=32\n",
    "MOMENTUM=0.09\n",
    "num_of_classes = 64"
   ]
  },
  {
   "cell_type": "code",
   "execution_count": 3,
   "metadata": {},
   "outputs": [],
   "source": [
    "from src.data_loader import GetDataLoaders, GetDataLoadersLimited\n",
    "\n",
    "device = torch.device(\"cuda:0\" if torch.cuda.is_available() else \"cpu\")\n",
    "\n",
    "data_dir = '..\\\\data\\\\miniImageNet'\n",
    "dataloaders, class_names, dataset_sizes  = GetDataLoadersLimited(data_dir, BATCH_SIZE, 20)\n",
    "\n",
    "train_loader = dataloaders['train']\n",
    "validation_loader = dataloaders['val']\n",
    "test_loader = dataloaders['test']"
   ]
  },
  {
   "cell_type": "code",
   "execution_count": 4,
   "metadata": {},
   "outputs": [
    {
     "name": "stdout",
     "output_type": "stream",
     "text": [
      " -- Training Set -- \n",
      "38400\n",
      "64\n",
      "600.0\n",
      " -- Validation Set -- \n",
      "9600\n",
      "16\n",
      "600.0\n",
      " -- Test Set -- \n",
      "12000\n",
      "20\n",
      "600.0\n"
     ]
    }
   ],
   "source": [
    "print(\" -- Training Set -- \")\n",
    "print(len(train_loader.dataset.imgs))\n",
    "print(len(train_loader.dataset.classes))\n",
    "print(len(train_loader.dataset.imgs)/len(train_loader.dataset.classes))\n",
    "\n",
    "\n",
    "print(\" -- Validation Set -- \")\n",
    "print(len(validation_loader.dataset.imgs))\n",
    "print(len(validation_loader.dataset.classes))\n",
    "print(len(validation_loader.dataset.imgs)/len(validation_loader.dataset.classes))\n",
    "\n",
    "print(\" -- Test Set -- \")\n",
    "print(len(test_loader.dataset.imgs))\n",
    "print(len(test_loader.dataset.classes))\n",
    "print(len(test_loader.dataset.imgs)/len(test_loader.dataset.classes))"
   ]
  },
  {
   "cell_type": "code",
   "execution_count": 5,
   "metadata": {},
   "outputs": [
    {
     "name": "stdout",
     "output_type": "stream",
     "text": [
      "Please wait patiently, it may take some seconds...\n",
      "Epoch 0/2\n",
      "----------\n"
     ]
    }
   ],
   "source": [
    "net = Shufflenet_v2_x0_5(num_of_classes).to(device)\n",
    "for p in net.parameters():\n",
    "    p.requires_grad = True\n",
    "net.train()\n",
    "\n",
    "criterion = torch.nn.CrossEntropyLoss()\n",
    "optimizer = torch.optim.SGD(params= net.parameters(), lr=LEARNING_RATE, momentum=MOMENTUM, weight_decay=WEIGHT_DECAY)\n",
    "scheduler = StepLR(optimizer, step_size=7, gamma=0.01)\n",
    "\n",
    "print('Please wait patiently, it may take some seconds...')\n",
    "best_model = train_model(net, dataloaders, criterion, optimizer, scheduler, NUM_EPOCHS, dataset_sizes)\n",
    "save_path = '..\\\\data\\\\models\\\\best_model_Shufflenet_v2_x0_5.pth'\n",
    "torch.save(best_model.state_dict(), save_path)"
   ]
  },
  {
   "cell_type": "code",
   "execution_count": null,
   "metadata": {},
   "outputs": [],
   "source": [
    "from src.modelvis import visualize_model\n",
    "\n",
    "visualize_model(best_model, dataloaders, num_images=6)"
   ]
  },
  {
   "cell_type": "code",
   "execution_count": null,
   "metadata": {},
   "outputs": [],
   "source": [
    "from src.models import Resnet18_FC_Changed, EfficientNetB0_FC_Changed\n",
    "net = Resnet18_FC_Changed(num_of_classes).to(device)\n",
    "for p in net.parameters():\n",
    "    p.requires_grad = True\n",
    "net.train()\n",
    "\n",
    "criterion = torch.nn.CrossEntropyLoss()\n",
    "optimizer = torch.optim.SGD(params= net.parameters(), lr=LEARNING_RATE, momentum=MOMENTUM, weight_decay=WEIGHT_DECAY)\n",
    "scheduler = StepLR(optimizer, step_size=7, gamma=0.01)\n",
    "\n",
    "print('Please wait patiently, it may take some seconds...')\n",
    "best_model = train_model(net, dataloaders, criterion, optimizer, scheduler, NUM_EPOCHS)\n",
    "save_path = '..\\\\data\\\\models\\\\best_model_Resnet18.pth'\n",
    "torch.save(best_model.state_dict(), save_path)"
   ]
  },
  {
   "cell_type": "code",
   "execution_count": null,
   "metadata": {},
   "outputs": [],
   "source": [
    "from src.modelvis import visualize_model\n",
    "\n",
    "visualize_model(best_model, dataloaders, num_images=6)"
   ]
  },
  {
   "cell_type": "code",
   "execution_count": null,
   "metadata": {},
   "outputs": [],
   "source": [
    "net = EfficientNetB0_FC_Changed(num_of_classes).to(device)\n",
    "for p in net.parameters():\n",
    "    p.requires_grad = True\n",
    "net.train()\n",
    "\n",
    "criterion = torch.nn.CrossEntropyLoss()\n",
    "optimizer = torch.optim.SGD(params= net.parameters(), lr=LEARNING_RATE, momentum=MOMENTUM, weight_decay=WEIGHT_DECAY)\n",
    "scheduler = StepLR(optimizer, step_size=7, gamma=0.01)\n",
    "\n",
    "print('Please wait patiently, it may take some seconds...')\n",
    "best_model = train_model(net, dataloaders, criterion, optimizer, scheduler, NUM_EPOCHS)\n",
    "save_path = '..\\\\data\\\\models\\\\best_model_EfficientNetB0_FC_Changed.pth'\n",
    "torch.save(best_model.state_dict(), save_path)"
   ]
  },
  {
   "cell_type": "code",
   "execution_count": null,
   "metadata": {},
   "outputs": [],
   "source": [
    "from src.modelvis import visualize_model\n",
    "\n",
    "visualize_model(best_model, dataloaders, num_images=6)"
   ]
  }
 ],
 "metadata": {
  "kernelspec": {
   "display_name": "base",
   "language": "python",
   "name": "python3"
  },
  "language_info": {
   "codemirror_mode": {
    "name": "ipython",
    "version": 3
   },
   "file_extension": ".py",
   "mimetype": "text/x-python",
   "name": "python",
   "nbconvert_exporter": "python",
   "pygments_lexer": "ipython3",
   "version": "3.11.5"
  }
 },
 "nbformat": 4,
 "nbformat_minor": 2
}
