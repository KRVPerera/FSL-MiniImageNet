{
 "cells": [
  {
   "cell_type": "code",
   "execution_count": 1,
   "metadata": {},
   "outputs": [],
   "source": [
    "#!pip install gdown\n",
    "#!pip install torch==2.1.0 torchvision==0.16.0 --index-url https://download.pytorch.org/whl/cu118"
   ]
  },
  {
   "cell_type": "code",
   "execution_count": 2,
   "metadata": {},
   "outputs": [
    {
     "name": "stdout",
     "output_type": "stream",
     "text": [
      "Device: cuda:0\n"
     ]
    },
    {
     "data": {
      "text/plain": [
       "<contextlib.ExitStack at 0x157dd0d0760>"
      ]
     },
     "execution_count": 2,
     "metadata": {},
     "output_type": "execute_result"
    }
   ],
   "source": [
    "import sys\n",
    "sys.path.append('..')\n",
    "import torch\n",
    "import torch.nn as nn\n",
    "import torch.backends.cudnn as cudnn\n",
    "import matplotlib.pyplot as plt\n",
    "from src.training import train_model, eval_func\n",
    "import os\n",
    "from torchvision import datasets, models, transforms\n",
    "from src.modelvis import visualize_models\n",
    "\n",
    "from src.models import VGG19\n",
    "from src.dataloader import MiniImageNetDataSet, createMiniImageNetDataLoaders, MiniImageNetDownloader\n",
    "import torchvision\n",
    "\n",
    "'''\n",
    "The line cudnn.benchmark = True is typically used in deep learning projects that utilize the CUDA Deep Neural Network (cuDNN) library.\n",
    "When cudnn.benchmark is set to True, it enables cuDNN to automatically find the best algorithm configuration for the specific \n",
    "input sizes and hardware being used. This can result in improved performance during training and inference.By enabling benchmarking, \n",
    "cuDNN will run a short benchmarking phase during the first iteration of the model to determine the optimal algorithm configuration. \n",
    "This configuration is then cached and used for subsequent iterations, leading to faster execution times.\n",
    "It's important to note that enabling benchmarking may introduce some overhead during the initial benchmarking phase, so it is typically \n",
    "recommended to use it when the input sizes are consistent throughout the training process.\n",
    "Overall, setting cudnn.benchmark to True can help optimize the performance of deep learning models that use cuDNN.\n",
    "'''\n",
    "torch.backends.cudnn.benchmark = True\n",
    "\n",
    "'''\n",
    "The line plt.ion() is a function call that activates interactive mode in matplotlib.\n",
    "When interactive mode is enabled, any plot that is created will be displayed immediately \n",
    "and can be updated dynamically. This means that you can modify the plot after it is displayed, \n",
    "such as changing the data or adding annotations, and the changes will be reflected in real-time.\n",
    "'''\n",
    "plt.ion()"
   ]
  },
  {
   "cell_type": "code",
   "execution_count": 3,
   "metadata": {},
   "outputs": [
    {
     "name": "stdout",
     "output_type": "stream",
     "text": [
      "0.9.2\n",
      "1.8.2\n"
     ]
    }
   ],
   "source": [
    "print(torchvision.__version__)\n",
    "print(torch.__version__)"
   ]
  },
  {
   "cell_type": "code",
   "execution_count": 4,
   "metadata": {},
   "outputs": [],
   "source": [
    "device = torch.device(\"cuda:0\" if torch.cuda.is_available() else \"cpu\")"
   ]
  },
  {
   "cell_type": "code",
   "execution_count": 5,
   "metadata": {},
   "outputs": [
    {
     "name": "stderr",
     "output_type": "stream",
     "text": [
      "2024-01-06 22:35:29,029 - INFO - MiniImageNet database already exists.\n"
     ]
    }
   ],
   "source": [
    "extractDir = '..\\\\data\\\\miniImageNet'\n",
    "url = 'https://drive.usercontent.google.com/download?id=107FTosYIeBn5QbynR46YG91nHcJ70whs&export=download&authuser=0&confirm=t&uuid=a50f1fb0-d0de-4900-905d-bab7437a3ec8&at=APZUnTXEKGryF0vQqVJF4LvHHCT1:1704557194939'\n",
    "downloader = MiniImageNetDownloader(url, extractDir)\n",
    "downloader.download()"
   ]
  },
  {
   "cell_type": "code",
   "execution_count": 6,
   "metadata": {},
   "outputs": [],
   "source": [
    "data_transforms = {\n",
    "    'train': transforms.Compose([\n",
    "        transforms.Resize(224),\n",
    "        transforms.ColorJitter(brightness=0.4, contrast=0.4, saturation=0.4),\n",
    "        transforms.RandomHorizontalFlip(),\n",
    "        transforms.GaussianBlur(3, sigma=(0.1, 2.0)),\n",
    "        transforms.ToTensor(),\n",
    "        transforms.Normalize((0.485, 0.456, 0.406), (0.229, 0.224, 0.225)),\n",
    "    ]),\n",
    "    'test': transforms.Compose([\n",
    "        transforms.Resize(224),\n",
    "        transforms.ToTensor(),\n",
    "        transforms.Normalize((0.485, 0.456, 0.406), (0.229, 0.224, 0.225)),\n",
    "    ]),\n",
    "    'val': transforms.Compose([\n",
    "        transforms.Resize(224),\n",
    "        transforms.ToTensor(),\n",
    "        transforms.Normalize((0.485, 0.456, 0.406), (0.229, 0.224, 0.225)),\n",
    "    ]),\n",
    "}\n",
    "\n",
    "dataDir = '..\\\\data\\\\miniImageNet\\\\train'\n",
    "dataloaders, class_names, dataset_sizes = createMiniImageNetDataLoaders(data_transforms, dataDir, split=0.8, batch_size=32)"
   ]
  },
  {
   "cell_type": "markdown",
   "metadata": {},
   "source": [
    "### Hyperparameters"
   ]
  },
  {
   "cell_type": "code",
   "execution_count": 7,
   "metadata": {},
   "outputs": [],
   "source": [
    "LEARNING_RATE=0.001 # 0.0001\n",
    "WEIGHT_DECAY=0.0005 # 0.000001\n",
    "NUM_EPOCHS=10\n",
    "BATCH_SIZE=256\n",
    "MOMENTUM=0.9\n",
    "STEP_SIZE=7\n",
    "GAMMA=0.01"
   ]
  },
  {
   "cell_type": "code",
   "execution_count": 8,
   "metadata": {},
   "outputs": [
    {
     "name": "stderr",
     "output_type": "stream",
     "text": [
      "2024-01-06 22:35:46,697 - INFO - Loading pretrained weights from url (https://download.pytorch.org/models/vgg19-dcbb9e9d.pth)\n"
     ]
    }
   ],
   "source": [
    "NUM_OF_CLASSES = 64\n",
    "net = VGG19(NUM_OF_CLASSES)"
   ]
  },
  {
   "cell_type": "markdown",
   "metadata": {},
   "source": [
    "### Learning Rate Control"
   ]
  },
  {
   "cell_type": "code",
   "execution_count": 9,
   "metadata": {},
   "outputs": [],
   "source": [
    "for p in net.parameters():\n",
    "    p.requires_grad = True\n",
    "net.train()\n",
    "\n",
    "criterion = torch.nn.CrossEntropyLoss()\n",
    "optimizer = torch.optim.SGD(params= net.parameters(), lr=LEARNING_RATE, momentum=MOMENTUM, weight_decay=WEIGHT_DECAY)\n",
    "scheduler = torch.optim.lr_scheduler.StepLR(optimizer, step_size=STEP_SIZE, gamma=GAMMA)"
   ]
  },
  {
   "cell_type": "code",
   "execution_count": 10,
   "metadata": {},
   "outputs": [
    {
     "name": "stdout",
     "output_type": "stream",
     "text": [
      "Please wait patiently, it may take some minutes...\n",
      "Epoch 0/9\n",
      "----------\n",
      "train Loss: 0.0316 Acc: 0.7254\n",
      "val Loss: 0.0232 Acc: 0.7943\n",
      "\n",
      "Epoch 1/9\n",
      "----------\n",
      "train Loss: 0.0167 Acc: 0.8404\n",
      "val Loss: 0.0194 Acc: 0.8240\n",
      "\n",
      "Epoch 2/9\n",
      "----------\n",
      "train Loss: 0.0119 Acc: 0.8840\n",
      "val Loss: 0.0197 Acc: 0.8255\n",
      "\n",
      "Epoch 3/9\n",
      "----------\n",
      "train Loss: 0.0087 Acc: 0.9138\n",
      "val Loss: 0.0195 Acc: 0.8292\n",
      "\n",
      "Epoch 4/9\n",
      "----------\n",
      "train Loss: 0.0064 Acc: 0.9368\n",
      "val Loss: 0.0208 Acc: 0.8284\n",
      "\n",
      "Epoch 5/9\n",
      "----------\n",
      "train Loss: 0.0052 Acc: 0.9466\n",
      "val Loss: 0.0221 Acc: 0.8227\n",
      "\n",
      "Epoch 6/9\n",
      "----------\n",
      "train Loss: 0.0040 Acc: 0.9604\n",
      "val Loss: 0.0254 Acc: 0.8174\n",
      "\n",
      "Epoch 7/9\n",
      "----------\n",
      "train Loss: 0.0032 Acc: 0.9679\n",
      "val Loss: 0.0280 Acc: 0.8214\n",
      "\n",
      "Epoch 8/9\n",
      "----------\n",
      "train Loss: 0.0027 Acc: 0.9737\n",
      "val Loss: 0.0256 Acc: 0.8341\n",
      "\n",
      "Epoch 9/9\n",
      "----------\n",
      "train Loss: 0.0023 Acc: 0.9773\n",
      "val Loss: 0.0249 Acc: 0.8372\n",
      "\n",
      "Training complete in 104m 9s\n",
      "Best val Acc: 0.837240\n"
     ]
    },
    {
     "data": {
      "image/png": "[encoded data removed]",
      "text/plain": [
       "<Figure size 640x480 with 1 Axes>"
      ]
     },
     "metadata": {},
     "output_type": "display_data"
    }
   ],
   "source": [
    "print('Please wait patiently, it may take some minutes...')\n",
    "best_model = train_model(net, dataloaders, criterion, optimizer, scheduler, NUM_EPOCHS, dataset_sizes)"
   ]
  },
  {
   "cell_type": "code",
   "execution_count": 11,
   "metadata": {},
   "outputs": [],
   "source": [
    "save_path = '..\\\\data\\\\models\\\\best_model_VGG19_fixedTransformers.pth'\n",
    "torch.save(best_model.state_dict(), save_path)"
   ]
  },
  {
   "cell_type": "code",
   "execution_count": 12,
   "metadata": {},
   "outputs": [
    {
     "name": "stdout",
     "output_type": "stream",
     "text": [
      "\n",
      "Accuracy on testing data: 0.828385\n"
     ]
    }
   ],
   "source": [
    "eval_acc = eval_func(best_model, dataloaders['test'])\n",
    "print('')\n",
    "print('Accuracy on testing data: %f' % eval_acc)"
   ]
  }
 ],
 "metadata": {
  "kernelspec": {
   "display_name": "Python 3 (ipykernel)",
   "language": "python",
   "name": "python3"
  },
  "language_info": {
   "codemirror_mode": {
    "name": "ipython",
    "version": 3
   },
   "file_extension": ".py",
   "mimetype": "text/x-python",
   "name": "python",
   "nbconvert_exporter": "python",
   "pygments_lexer": "ipython3",
   "version": "3.9.16"
  }
 },
 "nbformat": 4,
 "nbformat_minor": 4
}
